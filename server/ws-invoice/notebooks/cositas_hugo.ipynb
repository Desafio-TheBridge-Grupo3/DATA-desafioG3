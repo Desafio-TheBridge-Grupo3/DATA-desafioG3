{
 "cells": [
  {
   "cell_type": "code",
   "execution_count": 3,
   "metadata": {},
   "outputs": [],
   "source": [
    "import cv2 as cv\n",
    "import numpy as np\n",
    "import matplotlib.pyplot as plt\n",
    "import easyocr"
   ]
  },
  {
   "cell_type": "code",
   "execution_count": null,
   "metadata": {},
   "outputs": [],
   "source": [
    "# Leemos la imagen\n",
    "img = cv.imread('data/image/temp_image.png')\n",
    "img = cv.cvtColor(img, cv.COLOR_BGR2RGB)\n",
    "plt.imshow(img)"
   ]
  },
  {
   "cell_type": "code",
   "execution_count": null,
   "metadata": {},
   "outputs": [],
   "source": [
    "gray = cv.cvtColor(img, cv.COLOR_BGR2GRAY)\n",
    "plt.imshow(gray, cmap='gray')"
   ]
  },
  {
   "cell_type": "code",
   "execution_count": null,
   "metadata": {},
   "outputs": [],
   "source": [
    "reader = easyocr.Reader(['es'])\n",
    "result = reader.readtext(gray)\n",
    "result"
   ]
  },
  {
   "cell_type": "code",
   "execution_count": null,
   "metadata": {},
   "outputs": [],
   "source": [
    "txt = \"\""
   ]
  },
  {
   "cell_type": "code",
   "execution_count": null,
   "metadata": {},
   "outputs": [],
   "source": [
    "for n in result:\n",
    "    txt += n[1] + \" \""
   ]
  },
  {
   "cell_type": "code",
   "execution_count": null,
   "metadata": {},
   "outputs": [],
   "source": [
    "import os"
   ]
  },
  {
   "cell_type": "code",
   "execution_count": 45,
   "metadata": {},
   "outputs": [],
   "source": [
    "def save_text_to_txt(text, txt_path):\n",
    "    if os.path.exists(os.path.dirname(txt_path)):\n",
    "        try:\n",
    "            with open(txt_path, 'w', encoding='utf-8') as txt_file:\n",
    "                txt_file.write(text)\n",
    "            print(f'Archivo guardado exitosamente en: {txt_path}')\n",
    "        except Exception as e:\n",
    "            print(f'Error al guardar el archivo: {e}')\n",
    "    else:\n",
    "        print(f'La ruta especificada no existe: {os.path.dirname(txt_path)}')"
   ]
  },
  {
   "cell_type": "code",
   "execution_count": null,
   "metadata": {},
   "outputs": [],
   "source": [
    "save_txt = \"\"\n",
    "img = cv.imread('data/image/temp_image.png')\n",
    "gray = cv.cvtColor(img, cv.COLOR_BGR2GRAY)\n",
    "reader = easyocr.Reader(['es'])\n",
    "img_txt = reader.readtext(gray)\n",
    "\n",
    "for n in img_txt:\n",
    "    save_txt += n[1] + \" \"\n",
    "save_txt"
   ]
  },
  {
   "cell_type": "code",
   "execution_count": null,
   "metadata": {},
   "outputs": [],
   "source": [
    "save_text_to_txt(save_txt, \"data/txt/invoice.txt\")"
   ]
  },
  {
   "cell_type": "code",
   "execution_count": null,
   "metadata": {},
   "outputs": [],
   "source": [
    "txt"
   ]
  },
  {
   "cell_type": "code",
   "execution_count": 16,
   "metadata": {},
   "outputs": [],
   "source": [
    "import fitz\n",
    "# from langchain.chains import AnalyzeDocumentChain\n",
    "# from langchain.chat_models import ChatOpenAI\n",
    "# from langchain.chains.question_answering import load_qa_chain\n",
    "# import os"
   ]
  },
  {
   "cell_type": "code",
   "execution_count": null,
   "metadata": {},
   "outputs": [],
   "source": [
    "from dotenv import load_dotenv\n",
    "import os\n",
    "import re"
   ]
  },
  {
   "cell_type": "code",
   "execution_count": null,
   "metadata": {},
   "outputs": [],
   "source": [
    "load_dotenv()\n",
    "OPENAI_API_KEY = os.getenv(\"OPENAI_API_KEY\")"
   ]
  },
  {
   "cell_type": "code",
   "execution_count": null,
   "metadata": {},
   "outputs": [],
   "source": [
    "def create_qa_chain(): \n",
    "    llm = ChatOpenAI(model=\"gpt-3.5-turbo\", openai_api_key=OPENAI_API_KEY)\n",
    "    qa_chain = load_qa_chain(llm, chain_type=\"map_reduce\")\n",
    "    qa_document_chain = AnalyzeDocumentChain(combine_docs_chain=qa_chain)\n",
    "\n",
    "    return qa_document_chain\n"
   ]
  },
  {
   "cell_type": "code",
   "execution_count": null,
   "metadata": {},
   "outputs": [],
   "source": [
    "qa_document_chain = create_qa_chain()"
   ]
  },
  {
   "cell_type": "code",
   "execution_count": 8,
   "metadata": {},
   "outputs": [],
   "source": [
    "def extract_text_from_pdf(pdf_path):\n",
    "    doc = fitz.open(pdf_path)\n",
    "    full_text = \"\"\n",
    "\n",
    "    for page_num in range(doc.page_count - 1):\n",
    "        page = doc[page_num]\n",
    "        page_text = page.get_text()\n",
    "        full_text += page_text\n",
    "\n",
    "    doc.close()\n",
    "\n",
    "    return full_text"
   ]
  },
  {
   "cell_type": "code",
   "execution_count": null,
   "metadata": {},
   "outputs": [],
   "source": [
    "def save_text_to_txt(text, txt_path):\n",
    "    with open(txt_path, 'w', encoding='utf-8') as txt_file:\n",
    "        txt_file.write(text)"
   ]
  },
  {
   "cell_type": "code",
   "execution_count": null,
   "metadata": {},
   "outputs": [],
   "source": [
    "def response_question_langchain(question):\n",
    "    fragment_size = 4096\n",
    "    all_responses= {\"response\" : [], \"error\": []}\n",
    "    with open(\"invoice.txt\", 'r', encoding='utf-8') as file:\n",
    "        while True:\n",
    "            part = file.read(fragment_size)\n",
    "            if not part:\n",
    "                break\n",
    "            try:\n",
    "                response = qa_document_chain.run(\n",
    "                    input_document=part,\n",
    "                    question=question,\n",
    "                )\n",
    "                all_responses[\"response\"].append(response)\n",
    "            except Exception as e:\n",
    "                all_responses[\"error\"].append(str(e))\n",
    "    return all_responses\n"
   ]
  },
  {
   "cell_type": "code",
   "execution_count": 10,
   "metadata": {},
   "outputs": [],
   "source": [
    "pdf_path = '.\\\\data\\\\pdf\\\\invoice.pdf'\n"
   ]
  },
  {
   "cell_type": "code",
   "execution_count": null,
   "metadata": {},
   "outputs": [],
   "source": [
    "# Replace 'your_file.pdf' with the path to your PDF file\n",
    "extracted_text = extract_text_from_pdf(pdf_path)\n",
    "save_text_to_txt(extracted_text, \"invoice.txt\")"
   ]
  },
  {
   "cell_type": "code",
   "execution_count": null,
   "metadata": {},
   "outputs": [],
   "source": [
    "question = \"Dame solo el numero de la Potencia Punta\"\n",
    "response = response_question_langchain(question)\n",
    "print(response)\n"
   ]
  },
  {
   "cell_type": "code",
   "execution_count": null,
   "metadata": {},
   "outputs": [],
   "source": [
    "pdf_path = 'asenergy.pdf'\n",
    "extracted_text = extract_text_from_pdf(pdf_path)\n",
    "save_text_to_txt(extracted_text, \"invoice.txt\")"
   ]
  },
  {
   "cell_type": "code",
   "execution_count": null,
   "metadata": {},
   "outputs": [],
   "source": [
    "question = \"Dame solo el numero de la Potencia Punta\"\n",
    "response = response_question_langchain(question)\n",
    "print(response)"
   ]
  },
  {
   "cell_type": "code",
   "execution_count": null,
   "metadata": {},
   "outputs": [],
   "source": [
    "pdf_path = 'endesa.pdf'\n",
    "extracted_text = extract_text_from_pdf(pdf_path)\n",
    "save_text_to_txt(extracted_text, \"invoice.txt\")"
   ]
  },
  {
   "cell_type": "code",
   "execution_count": null,
   "metadata": {},
   "outputs": [],
   "source": [
    "question = \"Dame solo el numero de la Pot.Punta\"\n",
    "response = response_question_langchain(question)\n",
    "print(response)"
   ]
  },
  {
   "cell_type": "code",
   "execution_count": 14,
   "metadata": {},
   "outputs": [],
   "source": [
    "import re\n",
    "\n",
    "# Patrón de regex para encontrar números de punto flotante\n",
    "patron = r'\\b\\d+[.,]\\d+\\b'"
   ]
  },
  {
   "cell_type": "code",
   "execution_count": null,
   "metadata": {},
   "outputs": [],
   "source": [
    "response"
   ]
  },
  {
   "cell_type": "code",
   "execution_count": 15,
   "metadata": {},
   "outputs": [],
   "source": [
    "import copy"
   ]
  },
  {
   "cell_type": "code",
   "execution_count": null,
   "metadata": {},
   "outputs": [],
   "source": [
    "clean_response = copy.deepcopy(response)\n",
    "clean_response"
   ]
  },
  {
   "cell_type": "code",
   "execution_count": null,
   "metadata": {},
   "outputs": [],
   "source": [
    "def invoice_clean_data(response):\n",
    "    not_answer = [\"lo siento\",\"no se\", \"no puedo\", \"no se menciona\"]\n",
    "    for i,r in enumerate(response[\"response\"]):\n",
    "        if any(word.lower() in r.lower() for word in not_answer):\n",
    "            clean_response[\"response\"][i] = \" \"\n",
    "        else:\n",
    "            result = re.findall(patron,r)\n",
    "            result = result[0].replace(\",\",\".\")\n",
    "            clean_response[\"response\"][i] = result\n",
    "    return clean_response"
   ]
  },
  {
   "cell_type": "code",
   "execution_count": null,
   "metadata": {},
   "outputs": [],
   "source": [
    "clean_response"
   ]
  },
  {
   "cell_type": "code",
   "execution_count": null,
   "metadata": {},
   "outputs": [],
   "source": [
    "response"
   ]
  },
  {
   "cell_type": "code",
   "execution_count": null,
   "metadata": {},
   "outputs": [],
   "source": [
    "\n",
    "def extract_cups(link):\n",
    "\n",
    "    cups_pattern = re.compile(r'cups=[A-Z0-9]+')\n",
    "    matches = cups_pattern.findall(link)\n",
    "\n",
    "    cleaned_matches = [''.join(match.split()) for match in matches]\n",
    "\n",
    "    return cleaned_matches[0][5:]"
   ]
  },
  {
   "cell_type": "code",
   "execution_count": null,
   "metadata": {},
   "outputs": [],
   "source": [
    "link = \"https://comparador.cnmc.gob.es/comparador/QRE?cp=49600&pP1=4.60&pP2=4.60&caP1=370&caP2=390&caP3=819&iniA=2022-08-27&tc=F0&finPen=0000-00-00&finContrato=2024-06-12&tf=N&imp=38.62&cfP1=33&cfP2=40&cfP3=74&iniF=2023-07-10&finF=2023-08-09&impSA=0&impOtrosConIE=0&impOtrosSinIE=0.8&exc=0.00&com=R2-001&cups=ES0021000010052134MG0F&pmaxP1=0.00&pmaxP2=0.00&fFact=2023-08-21&dtoBS=0&finBS=1.15&ajuste=0&impPot=12.05&impEner=35.49&dto=12.89&prP1=30.433800&prP2=1.434024&prE1=0.241445&prE2=&prE3=&cfP1flex=&cfP2flex=&cambio=&promo=1&verde=&rev=0\""
   ]
  },
  {
   "cell_type": "code",
   "execution_count": null,
   "metadata": {},
   "outputs": [],
   "source": [
    "extract_cups(link)"
   ]
  },
  {
   "cell_type": "code",
   "execution_count": 22,
   "metadata": {},
   "outputs": [],
   "source": [
    "def prizes_invoice():\n",
    "    patron = re.compile(r'\\b\\d+\\,\\d{6}\\b')\n",
    "    with open(\"data/txt/invoice.txt\", 'r', encoding='utf-8') as txt_file:\n",
    "        txt_file = txt_file.read()\n",
    "\n",
    "    matches = patron.findall(txt_file)\n",
    "\n",
    "    cleaned_matches = [''.join(match.split()) for match in matches]\n",
    "\n",
    "    prizes = [\"P1_con\",\"P2_con\", \"P1_power\"]\n",
    "\n",
    "    return cleaned_matches  "
   ]
  },
  {
   "cell_type": "code",
   "execution_count": 18,
   "metadata": {},
   "outputs": [
    {
     "data": {
      "text/plain": [
       "'gAseNergy Número de factura: 230083671 DETALLE DE TU CONSUMO Término Potencia 13,48 € P1 3,300 kW x 31 Días x 0,105952 €/kW día P3 3,300 kW x 31 Días x 0,025820 €/kW día Término Energía ATR 5,90 € P1 55 kWh x 0,072991 €/kWh P2 55 kWh x 0,028573 €/kWh P3 102 kWh x 0,003175 €/kWh Término Energía Libre 32,37 € P1 55 kWh x 0,159265 €/kWh P2 55 kWh x 0,185653 €/kWh P3 102 kWh x 0,131326 €/kWh Productos 1,19 € Financiación Bono Social 1 6 ; 2 1 g Base Imponible 54,03 € L LVA. (5,009) 2,70 € : Impuesto sobre la electricidad 0,26 € F 0,50000000 % sobre 52,94 € x 1 1 Alquiler de equipos 0,83 € 8 Alquiler Equipo Distribuidora 2 TOTAL 56,73 € 1 0 DESTINO DEL IMPORTE DE LA FACTURA IMPACTO MEDIO AMBIENTAL , RECORE:0,00 El impacto ambiental de su electricidad depende de las g fuentes energéticas utilizadas para su generación. En una escala de A a G donde A indica el minimo impacto ambiental 9 DÉFICIT:3,24 y G el máximo y que por el valor nacional   correspondiente al 9 nivel D, la energía comercializada por ALQUILER SEGURO TNP:0,72 ENERGIA, SA tiene los siguientes valores: < 3 OTROS: 1,90 1 Impuestos: 2,96 Cargos: 4,00 , Alquiler Contador: ,83 Peajes de Transporte Energía: 39,55 9,39 Distribución: A los importes indicados en diagrama debe añadirse, en su caso, importe 9 del alquiler de los equipos de medida control: 0,83€ Emisiones de dióxido de Residuos radiactivos Alta carbono Actividad El que a buen Gracias por consumir una energía sostenible certificada árbol se arrima, buena sombra le La energía que te hemos suministrado viene avalada como energía renovable por la Oficina Certificadora de Garantías de cobija Origen; perteneciente la Comisión Nacional de los Mercados y Competencia de España. '"
      ]
     },
     "execution_count": 18,
     "metadata": {},
     "output_type": "execute_result"
    }
   ],
   "source": [
    "with open(\"data/txt/invoice.txt\", 'r', encoding='utf-8') as txt_file:\n",
    "    txt = txt_file.read()\n",
    "txt"
   ]
  },
  {
   "cell_type": "code",
   "execution_count": 9,
   "metadata": {},
   "outputs": [
    {
     "name": "stdout",
     "output_type": "stream",
     "text": [
      "gAseNergy Número de factura: 230083671 DETALLE DE TU CONSUMO Término Potencia 13,48 € P1 3,300 kW x 31 Días x 0,105952 €/kW día P3 3,300 kW x 31 Días x 0,025820 €/kW día Término Energía ATR 5,90 € P1 55 kWh x 0,072991 €/kWh P2 55 kWh x 0,028573 €/kWh P3 102 kWh x 0,003175 €/kWh Término Energía Libre 32,37 € P1 55 kWh x 0,159265 €/kWh P2 55 kWh x 0,185653 €/kWh P3 102 kWh x 0,131326 €/kWh Productos 1,19 € Financiación Bono Social 1 6 ; 2 1 g Base Imponible 54,03 € L LVA. (5,009) 2,70 € : Impuesto sobre la electricidad 0,26 € F 0,50000000 % sobre 52,94 € x 1 1 Alquiler de equipos 0,83 € 8 Alquiler Equipo Distribuidora 2 TOTAL 56,73 € 1 0 DESTINO DEL IMPORTE DE LA FACTURA IMPACTO MEDIO AMBIENTAL , RECORE:0,00 El impacto ambiental de su electricidad depende de las g fuentes energéticas utilizadas para su generación. En una escala de A a G donde A indica el minimo impacto ambiental 9 DÉFICIT:3,24 y G el máximo y que por el valor nacional   correspondiente al 9 nivel D, la energía comercializada por ALQUILER SEGURO TNP:0,72 ENERGIA, SA tiene los siguientes valores: < 3 OTROS: 1,90 1 Impuestos: 2,96 Cargos: 4,00 , Alquiler Contador: ,83 Peajes de Transporte Energía: 39,55 9,39 Distribución: A los importes indicados en diagrama debe añadirse, en su caso, importe 9 del alquiler de los equipos de medida control: 0,83€ Emisiones de dióxido de Residuos radiactivos Alta carbono Actividad El que a buen Gracias por consumir una energía sostenible certificada árbol se arrima, buena sombra le La energía que te hemos suministrado viene avalada como energía renovable por la Oficina Certificadora de Garantías de cobija Origen; perteneciente la Comisión Nacional de los Mercados y Competencia de España. \n"
     ]
    }
   ],
   "source": [
    "print(txt)"
   ]
  },
  {
   "cell_type": "code",
   "execution_count": 25,
   "metadata": {},
   "outputs": [],
   "source": [
    "cleaned_matches = prizes_invoice()"
   ]
  },
  {
   "cell_type": "code",
   "execution_count": null,
   "metadata": {},
   "outputs": [],
   "source": [
    "def prizes_invoice():\n",
    "    patron = re.compile(r'\\b\\d+\\,\\d{6}\\b')\n",
    "    with open(\"data/txt/invoice.txt\", 'r', encoding='utf-8') as txt_file:\n",
    "        txt_file = txt_file.read()\n",
    "\n",
    "    matches = patron.findall(txt_file)\n",
    "\n",
    "    cleaned_matches = [''.join(match.split()) for match in matches]\n",
    "\n",
    "    prizes = [\"P1_con\",\"P2_con\", \"P1_power\"]\n",
    "\n",
    "    return cleaned_matches  "
   ]
  },
  {
   "cell_type": "code",
   "execution_count": null,
   "metadata": {},
   "outputs": [],
   "source": [
    "def prizes_invoice():\n",
    "    patron = re.compile(r'\\b\\d+\\,\\d{6}\\b')\n",
    "    with open(\"data/txt/invoice.txt\", 'r', encoding='utf-8') as txt_file:\n",
    "        txt_file = txt_file.read()\n",
    "\n",
    "    matches = patron.findall(txt_file)\n",
    "\n",
    "    cleaned_matches = [''.join(match.split()) for match in matches]\n",
    "\n",
    "    prizes = [\"P1_con\",\"P2_con\", \"P1_power\"]\n",
    "\n",
    "    return cleaned_matches  "
   ]
  },
  {
   "cell_type": "code",
   "execution_count": 11,
   "metadata": {},
   "outputs": [
    {
     "data": {
      "text/plain": [
       "{'Término Potencia': '13,48',\n",
       " 'Término Energía ATR': '5,90',\n",
       " 'Término Energía Libre': '32,37',\n",
       " 'Productos': '1,19',\n",
       " 'Financiación Bono Social': '1',\n",
       " 'Base Imponible': '54,03',\n",
       " 'Impuesto sobre la electricidad': '0,26',\n",
       " 'Alquiler de equipos': '0,83',\n",
       " 'TOTAL': '56,73'}"
      ]
     },
     "execution_count": 11,
     "metadata": {},
     "output_type": "execute_result"
    }
   ],
   "source": [
    "resultado"
   ]
  },
  {
   "cell_type": "code",
   "execution_count": 12,
   "metadata": {},
   "outputs": [],
   "source": [
    "import pandas as pd"
   ]
  },
  {
   "cell_type": "code",
   "execution_count": 17,
   "metadata": {},
   "outputs": [],
   "source": [
    "full_text = extract_text_from_pdf(pdf_path)"
   ]
  },
  {
   "cell_type": "code",
   "execution_count": 18,
   "metadata": {},
   "outputs": [],
   "source": [
    "ocurrencias = encontrar_ocurrencias(full_text)"
   ]
  },
  {
   "cell_type": "code",
   "execution_count": 57,
   "metadata": {},
   "outputs": [],
   "source": [
    "ocurrencias1 = encontrar_ocurrencias(txt)"
   ]
  },
  {
   "cell_type": "code",
   "execution_count": 5,
   "metadata": {},
   "outputs": [],
   "source": [
    "\n",
    "def encontrar_ocurrencias(texto):\n",
    "    patron = r'€/kWh|€/kW'\n",
    "    coincidencias = re.findall(patron, texto)\n",
    "    return coincidencias\n",
    "\n",
    "# # Ejemplo de uso\n",
    "# texto_ejemplo = \"\"\"\n",
    "# Término Potencia 13,48 € P1 3,300 kW x 31 Días x 0,105952 €/kW día P3 3,300 kW x 31 Días x 0,025820 €/kW día\n",
    "# Término Energía ATR 5,90 € P1 55 kWh x 0,072991 €/kWh P2 55 kWh x 0,028573 €/kWh P3 102 kWh x 0,003175 €/kWh\n",
    "# Término Energía Libre 32,37 € P1 55 kWh x 0,159265 €/kWh P2 55 kWh x 0,185653 €/kWh P3 102 kWh x 0,131326 €/kWh\n",
    "# \"\"\"\n",
    "\n",
    "# ocurrencias = encontrar_ocurrencias(full_text)\n",
    "# print(ocurrencias)"
   ]
  },
  {
   "cell_type": "code",
   "execution_count": 43,
   "metadata": {},
   "outputs": [
    {
     "data": {
      "text/plain": [
       "['€/kW', '€/kW', '€/kWh']"
      ]
     },
     "execution_count": 43,
     "metadata": {},
     "output_type": "execute_result"
    }
   ],
   "source": [
    "ocurrencias"
   ]
  },
  {
   "cell_type": "code",
   "execution_count": 13,
   "metadata": {},
   "outputs": [],
   "source": [
    "import os"
   ]
  },
  {
   "cell_type": "code",
   "execution_count": 49,
   "metadata": {},
   "outputs": [
    {
     "name": "stdout",
     "output_type": "stream",
     "text": [
      "Archivo guardado exitosamente en: data/txt/invoice2.txt\n"
     ]
    }
   ],
   "source": [
    "save_text_to_txt(full_text, \"data/txt/invoice2.txt\")"
   ]
  },
  {
   "cell_type": "code",
   "execution_count": 21,
   "metadata": {},
   "outputs": [],
   "source": [
    "def prizes_invoice_2():\n",
    "    patron = re.compile(r'\\b\\d+\\,\\d{6}\\b')\n",
    "    with open(\"data/txt/invoice2.txt\", 'r', encoding='utf-8') as txt_file:\n",
    "        txt_file = txt_file.read()\n",
    "\n",
    "    matches = patron.findall(txt_file)\n",
    "\n",
    "    cleaned_matches = [''.join(match.split()) for match in matches]\n",
    "\n",
    "    prizes = [\"P1_con\",\"P2_con\", \"P1_power\"]\n",
    "\n",
    "    return cleaned_matches  "
   ]
  },
  {
   "cell_type": "code",
   "execution_count": 22,
   "metadata": {},
   "outputs": [],
   "source": [
    "cleaned_matches_2 = prizes_invoice_2()"
   ]
  },
  {
   "cell_type": "code",
   "execution_count": 53,
   "metadata": {},
   "outputs": [
    {
     "data": {
      "text/plain": [
       "['0,099528', '0,016405', '0,209469', '0,038455']"
      ]
     },
     "execution_count": 53,
     "metadata": {},
     "output_type": "execute_result"
    }
   ],
   "source": [
    "cleaned_matches_2"
   ]
  },
  {
   "cell_type": "code",
   "execution_count": 54,
   "metadata": {},
   "outputs": [
    {
     "data": {
      "text/plain": [
       "['€/kW', '€/kW', '€/kWh']"
      ]
     },
     "execution_count": 54,
     "metadata": {},
     "output_type": "execute_result"
    }
   ],
   "source": [
    "ocurrencias"
   ]
  },
  {
   "cell_type": "code",
   "execution_count": 2,
   "metadata": {},
   "outputs": [],
   "source": [
    "def df_create(measured, cleaned_matches):\n",
    "    data = {'precios': cleaned_matches, 'unidades': measured}\n",
    "    df = pd.DataFrame.from_dict(data, orient='index').transpose()\n",
    "    return df"
   ]
  },
  {
   "cell_type": "code",
   "execution_count": 23,
   "metadata": {},
   "outputs": [],
   "source": [
    "df2= df_create(ocurrencias,cleaned_matches_2)"
   ]
  },
  {
   "cell_type": "code",
   "execution_count": 24,
   "metadata": {},
   "outputs": [
    {
     "data": {
      "text/html": [
       "<div>\n",
       "<style scoped>\n",
       "    .dataframe tbody tr th:only-of-type {\n",
       "        vertical-align: middle;\n",
       "    }\n",
       "\n",
       "    .dataframe tbody tr th {\n",
       "        vertical-align: top;\n",
       "    }\n",
       "\n",
       "    .dataframe thead th {\n",
       "        text-align: right;\n",
       "    }\n",
       "</style>\n",
       "<table border=\"1\" class=\"dataframe\">\n",
       "  <thead>\n",
       "    <tr style=\"text-align: right;\">\n",
       "      <th></th>\n",
       "      <th>precios</th>\n",
       "      <th>unidades</th>\n",
       "    </tr>\n",
       "  </thead>\n",
       "  <tbody>\n",
       "    <tr>\n",
       "      <th>0</th>\n",
       "      <td>0,099528</td>\n",
       "      <td>€/kW</td>\n",
       "    </tr>\n",
       "    <tr>\n",
       "      <th>1</th>\n",
       "      <td>0,016405</td>\n",
       "      <td>€/kW</td>\n",
       "    </tr>\n",
       "    <tr>\n",
       "      <th>2</th>\n",
       "      <td>0,209469</td>\n",
       "      <td>€/kWh</td>\n",
       "    </tr>\n",
       "    <tr>\n",
       "      <th>3</th>\n",
       "      <td>0,038455</td>\n",
       "      <td>None</td>\n",
       "    </tr>\n",
       "  </tbody>\n",
       "</table>\n",
       "</div>"
      ],
      "text/plain": [
       "    precios unidades\n",
       "0  0,099528     €/kW\n",
       "1  0,016405     €/kW\n",
       "2  0,209469    €/kWh\n",
       "3  0,038455     None"
      ]
     },
     "execution_count": 24,
     "metadata": {},
     "output_type": "execute_result"
    }
   ],
   "source": [
    "df2"
   ]
  },
  {
   "cell_type": "code",
   "execution_count": 98,
   "metadata": {},
   "outputs": [],
   "source": [
    "df2.dropna(inplace=True)"
   ]
  },
  {
   "cell_type": "code",
   "execution_count": 94,
   "metadata": {},
   "outputs": [
    {
     "data": {
      "text/html": [
       "<div>\n",
       "<style scoped>\n",
       "    .dataframe tbody tr th:only-of-type {\n",
       "        vertical-align: middle;\n",
       "    }\n",
       "\n",
       "    .dataframe tbody tr th {\n",
       "        vertical-align: top;\n",
       "    }\n",
       "\n",
       "    .dataframe thead th {\n",
       "        text-align: right;\n",
       "    }\n",
       "</style>\n",
       "<table border=\"1\" class=\"dataframe\">\n",
       "  <thead>\n",
       "    <tr style=\"text-align: right;\">\n",
       "      <th></th>\n",
       "      <th>precios</th>\n",
       "      <th>unidades</th>\n",
       "    </tr>\n",
       "  </thead>\n",
       "  <tbody>\n",
       "  </tbody>\n",
       "</table>\n",
       "</div>"
      ],
      "text/plain": [
       "Empty DataFrame\n",
       "Columns: [precios, unidades]\n",
       "Index: []"
      ]
     },
     "execution_count": 94,
     "metadata": {},
     "output_type": "execute_result"
    }
   ],
   "source": [
    "df2[df2['unidades']=='None']\n"
   ]
  },
  {
   "cell_type": "code",
   "execution_count": 99,
   "metadata": {},
   "outputs": [
    {
     "data": {
      "text/html": [
       "<div>\n",
       "<style scoped>\n",
       "    .dataframe tbody tr th:only-of-type {\n",
       "        vertical-align: middle;\n",
       "    }\n",
       "\n",
       "    .dataframe tbody tr th {\n",
       "        vertical-align: top;\n",
       "    }\n",
       "\n",
       "    .dataframe thead th {\n",
       "        text-align: right;\n",
       "    }\n",
       "</style>\n",
       "<table border=\"1\" class=\"dataframe\">\n",
       "  <thead>\n",
       "    <tr style=\"text-align: right;\">\n",
       "      <th></th>\n",
       "      <th>precios</th>\n",
       "      <th>unidades</th>\n",
       "    </tr>\n",
       "  </thead>\n",
       "  <tbody>\n",
       "    <tr>\n",
       "      <th>0</th>\n",
       "      <td>0,099528</td>\n",
       "      <td>€/kW</td>\n",
       "    </tr>\n",
       "    <tr>\n",
       "      <th>1</th>\n",
       "      <td>0,016405</td>\n",
       "      <td>€/kW</td>\n",
       "    </tr>\n",
       "    <tr>\n",
       "      <th>2</th>\n",
       "      <td>0,209469</td>\n",
       "      <td>€/kWh</td>\n",
       "    </tr>\n",
       "  </tbody>\n",
       "</table>\n",
       "</div>"
      ],
      "text/plain": [
       "    precios unidades\n",
       "0  0,099528     €/kW\n",
       "1  0,016405     €/kW\n",
       "2  0,209469    €/kWh"
      ]
     },
     "execution_count": 99,
     "metadata": {},
     "output_type": "execute_result"
    }
   ],
   "source": [
    "df2"
   ]
  },
  {
   "cell_type": "code",
   "execution_count": 66,
   "metadata": {},
   "outputs": [],
   "source": [
    "data2 = {'precios': cleaned_matches, 'unidades': ocurrencias1}\n",
    "df3 = pd.DataFrame.from_dict(data2, orient='index').transpose()"
   ]
  },
  {
   "cell_type": "code",
   "execution_count": 67,
   "metadata": {},
   "outputs": [
    {
     "data": {
      "text/html": [
       "<div>\n",
       "<style scoped>\n",
       "    .dataframe tbody tr th:only-of-type {\n",
       "        vertical-align: middle;\n",
       "    }\n",
       "\n",
       "    .dataframe tbody tr th {\n",
       "        vertical-align: top;\n",
       "    }\n",
       "\n",
       "    .dataframe thead th {\n",
       "        text-align: right;\n",
       "    }\n",
       "</style>\n",
       "<table border=\"1\" class=\"dataframe\">\n",
       "  <thead>\n",
       "    <tr style=\"text-align: right;\">\n",
       "      <th></th>\n",
       "      <th>precios</th>\n",
       "      <th>unidades</th>\n",
       "    </tr>\n",
       "  </thead>\n",
       "  <tbody>\n",
       "    <tr>\n",
       "      <th>0</th>\n",
       "      <td>0,105952</td>\n",
       "      <td>€/kW</td>\n",
       "    </tr>\n",
       "    <tr>\n",
       "      <th>1</th>\n",
       "      <td>0,025820</td>\n",
       "      <td>€/kW</td>\n",
       "    </tr>\n",
       "    <tr>\n",
       "      <th>2</th>\n",
       "      <td>0,072991</td>\n",
       "      <td>€/kWh</td>\n",
       "    </tr>\n",
       "    <tr>\n",
       "      <th>3</th>\n",
       "      <td>0,028573</td>\n",
       "      <td>€/kWh</td>\n",
       "    </tr>\n",
       "    <tr>\n",
       "      <th>4</th>\n",
       "      <td>0,003175</td>\n",
       "      <td>€/kWh</td>\n",
       "    </tr>\n",
       "    <tr>\n",
       "      <th>5</th>\n",
       "      <td>0,159265</td>\n",
       "      <td>€/kWh</td>\n",
       "    </tr>\n",
       "    <tr>\n",
       "      <th>6</th>\n",
       "      <td>0,185653</td>\n",
       "      <td>€/kWh</td>\n",
       "    </tr>\n",
       "    <tr>\n",
       "      <th>7</th>\n",
       "      <td>0,131326</td>\n",
       "      <td>€/kWh</td>\n",
       "    </tr>\n",
       "  </tbody>\n",
       "</table>\n",
       "</div>"
      ],
      "text/plain": [
       "    precios unidades\n",
       "0  0,105952     €/kW\n",
       "1  0,025820     €/kW\n",
       "2  0,072991    €/kWh\n",
       "3  0,028573    €/kWh\n",
       "4  0,003175    €/kWh\n",
       "5  0,159265    €/kWh\n",
       "6  0,185653    €/kWh\n",
       "7  0,131326    €/kWh"
      ]
     },
     "execution_count": 67,
     "metadata": {},
     "output_type": "execute_result"
    }
   ],
   "source": [
    "df3"
   ]
  },
  {
   "cell_type": "code",
   "execution_count": 69,
   "metadata": {},
   "outputs": [
    {
     "name": "stdout",
     "output_type": "stream",
     "text": [
      "    precios unidades P_values\n",
      "0  0,105952     €/kW       P1\n",
      "1  0,025820     €/kW       P2\n",
      "2  0,072991    €/kWh       P1\n",
      "3  0,028573    €/kWh       P2\n",
      "4  0,003175    €/kWh       P3\n",
      "5  0,159265    €/kWh       P4\n",
      "6  0,185653    €/kWh       P5\n",
      "7  0,131326    €/kWh       P6\n"
     ]
    }
   ],
   "source": [
    "df2['P_values'] = ''\n",
    "\n",
    "# Function to assign P_values\n",
    "def assign_p_values(row):\n",
    "    global p_counter_kW, p_counter_kWh\n",
    "    if row['unidades'] == '€/kW':\n",
    "        p_counter_kW += 1\n",
    "        return f'P{p_counter_kW}'\n",
    "    elif row['unidades'] == '€/kWh':\n",
    "        p_counter_kWh += 1\n",
    "        return f'P{p_counter_kWh}'\n",
    "    else:\n",
    "        return ''\n",
    "\n",
    "# Initialize counters\n",
    "p_counter_kW = 0\n",
    "p_counter_kWh = 0\n",
    "\n",
    "# Apply the function to assign P_values\n",
    "df3['P_values'] = df3.apply(assign_p_values, axis=1)\n",
    "\n",
    "print(df3)"
   ]
  },
  {
   "cell_type": "code",
   "execution_count": 100,
   "metadata": {},
   "outputs": [
    {
     "name": "stdout",
     "output_type": "stream",
     "text": [
      "    precios unidades P_values\n",
      "0  0,099528     €/kW       P1\n",
      "1  0,016405     €/kW       P2\n",
      "2  0,209469    €/kWh       P1\n"
     ]
    }
   ],
   "source": [
    "df2['P_values'] = ''\n",
    "\n",
    "# Function to assign P_values\n",
    "def assign_p_values(row):\n",
    "    global p_counter_kW, p_counter_kWh\n",
    "    if row['unidades'] == '€/kW':\n",
    "        p_counter_kW += 1\n",
    "        return f'P{p_counter_kW}'\n",
    "    elif row['unidades'] == '€/kWh':\n",
    "        p_counter_kWh += 1\n",
    "        return f'P{p_counter_kWh}'\n",
    "    else:\n",
    "        return ''\n",
    "\n",
    "# Initialize counters\n",
    "p_counter_kW = 0\n",
    "p_counter_kWh = 0\n",
    "\n",
    "# Apply the function to assign P_values\n",
    "df2['P_values'] = df2.apply(assign_p_values, axis=1)\n",
    "\n",
    "print(df2)"
   ]
  },
  {
   "cell_type": "code",
   "execution_count": 83,
   "metadata": {},
   "outputs": [
    {
     "name": "stdout",
     "output_type": "stream",
     "text": [
      "    precios unidades P_values\n",
      "6  0.185653    €/kWh       p1\n",
      "5  0.159265    €/kWh       p2\n",
      "7  0.131326    €/kWh       p3\n",
      "0  0.105952     €/kW       p1\n",
      "2  0.072991    €/kWh       p4\n",
      "3  0.028573    €/kWh       p5\n",
      "1  0.025820     €/kW       p2\n",
      "4  0.003175    €/kWh       p6\n"
     ]
    }
   ],
   "source": [
    "# Convert 'precios' to numeric for proper sorting\n",
    "# df3['precios'] = pd.to_numeric(df3['precios'].str.replace(',', '.'), errors='coerce')\n",
    "\n",
    "# # # Sort DataFrame by 'precios' in descending order\n",
    "# df3 = df3.sort_values(by='precios', ascending=False)\n",
    "\n",
    "# Create a new column 'P_values'\n",
    "df3['P_values'] = ''\n",
    "\n",
    "# Function to assign P_values\n",
    "def assign_p_values(row):\n",
    "    global p_counter_kW, p_counter_kWh\n",
    "    if row['unidades'] == '€/kW':\n",
    "        p_counter_kW += 1\n",
    "        return f'p{p_counter_kW}'\n",
    "    elif row['unidades'] == '€/kWh':\n",
    "        p_counter_kWh += 1\n",
    "        return f'p{p_counter_kWh}'\n",
    "    else:\n",
    "        return ''\n",
    "\n",
    "# Initialize counters\n",
    "p_counter_kW = 0\n",
    "p_counter_kWh = 0\n",
    "\n",
    "# Apply the function to assign P_values\n",
    "df3['P_values'] = df3.apply(assign_p_values, axis=1)\n",
    "\n",
    "print(df3)"
   ]
  },
  {
   "cell_type": "code",
   "execution_count": 101,
   "metadata": {},
   "outputs": [
    {
     "name": "stdout",
     "output_type": "stream",
     "text": [
      "    precios unidades P_values\n",
      "0  0,099528     €/kW       p1\n",
      "1  0,016405     €/kW       p2\n",
      "2  0,209469    €/kWh       p1\n"
     ]
    }
   ],
   "source": [
    "# Convert 'precios' to numeric for proper sorting\n",
    "# df2['precios'] = pd.to_numeric(df2['precios'].str.replace(',', '.'), errors='coerce')\n",
    "\n",
    "# # # # Sort DataFrame by 'precios' in descending order\n",
    "# df2 = df2.sort_values(by='precios', ascending=False)\n",
    "\n",
    "# Create a new column 'P_values'\n",
    "df2['P_values'] = ''\n",
    "\n",
    "# Function to assign P_values\n",
    "def assign_p_values(row):\n",
    "    global p_counter_kW, p_counter_kWh\n",
    "    if row['unidades'] == '€/kW':\n",
    "        p_counter_kW += 1\n",
    "        return f'p{p_counter_kW}'\n",
    "    elif row['unidades'] == '€/kWh':\n",
    "        p_counter_kWh += 1\n",
    "        return f'p{p_counter_kWh}'\n",
    "    else:\n",
    "        return ''\n",
    "\n",
    "# Initialize counters\n",
    "p_counter_kW = 0\n",
    "p_counter_kWh = 0\n",
    "\n",
    "# Apply the function to assign P_values\n",
    "df2['P_values'] = df2.apply(assign_p_values, axis=1)\n",
    "\n",
    "print(df2)"
   ]
  },
  {
   "cell_type": "code",
   "execution_count": 102,
   "metadata": {},
   "outputs": [
    {
     "name": "stdout",
     "output_type": "stream",
     "text": [
      "{'p1_prize_kw': [0.105952], 'p2_prize_kw': [0.02582], 'p3_prize_kw': [], 'p4_prize_kw': [], 'p5_prize_kw': [], 'p6_prize_kw': [], 'p1_prize_kwh': [0.185653], 'p2_prize_kwh': [0.159265], 'p3_prize_kwh': [0.131326], 'p4_prize_kwh': [0.072991], 'p5_prize_kwh': [0.028573], 'p6_prize_kwh': [0.003175]}\n"
     ]
    }
   ],
   "source": [
    "pdf_scarp_info = {\n",
    "    \"p1_prize_kw\": [],\n",
    "    \"p2_prize_kw\": [],\n",
    "    \"p3_prize_kw\": [],\n",
    "    \"p4_prize_kw\": [],\n",
    "    \"p5_prize_kw\": [],\n",
    "    \"p6_prize_kw\": [],\n",
    "    \"p1_prize_kwh\": [],\n",
    "    \"p2_prize_kwh\": [],\n",
    "    \"p3_prize_kwh\": [],\n",
    "    \"p4_prize_kwh\": [],\n",
    "    \"p5_prize_kwh\": [],\n",
    "    \"p6_prize_kwh\": [],\n",
    "}\n",
    "\n",
    "# Iterate over the DataFrame and populate the JSON structure\n",
    "for index, row in df3.iterrows():\n",
    "    prize_type = f\"{row['P_values']}_prize_{row['unidades'][2:].lower()}\"\n",
    "    pdf_scarp_info[prize_type].append(row['precios'])\n",
    "\n",
    "print(pdf_scarp_info)"
   ]
  },
  {
   "cell_type": "code",
   "execution_count": 103,
   "metadata": {},
   "outputs": [
    {
     "name": "stdout",
     "output_type": "stream",
     "text": [
      "{'p1_prize_kw': ['0,099528'], 'p2_prize_kw': ['0,016405'], 'p3_prize_kw': [], 'p4_prize_kw': [], 'p5_prize_kw': [], 'p6_prize_kw': [], 'p1_prize_kwh': ['0,209469'], 'p2_prize_kwh': [], 'p3_prize_kwh': [], 'p4_prize_kwh': [], 'p5_prize_kwh': [], 'p6_prize_kwh': []}\n"
     ]
    }
   ],
   "source": [
    "pdf_scarp_info = {\n",
    "    \"p1_prize_kw\": [],\n",
    "    \"p2_prize_kw\": [],\n",
    "    \"p3_prize_kw\": [],\n",
    "    \"p4_prize_kw\": [],\n",
    "    \"p5_prize_kw\": [],\n",
    "    \"p6_prize_kw\": [],\n",
    "    \"p1_prize_kwh\": [],\n",
    "    \"p2_prize_kwh\": [],\n",
    "    \"p3_prize_kwh\": [],\n",
    "    \"p4_prize_kwh\": [],\n",
    "    \"p5_prize_kwh\": [],\n",
    "    \"p6_prize_kwh\": [],\n",
    "}\n",
    "\n",
    "# Iterate over the DataFrame and populate the JSON structure\n",
    "for index, row in df2.iterrows():\n",
    "    prize_type = f\"{row['P_values']}_prize_{row['unidades'][2:].lower()}\"\n",
    "    pdf_scarp_info[prize_type].append(row['precios'])\n",
    "\n",
    "print(pdf_scarp_info)"
   ]
  }
 ],
 "metadata": {
  "kernelspec": {
   "display_name": "Python 3",
   "language": "python",
   "name": "python3"
  },
  "language_info": {
   "codemirror_mode": {
    "name": "ipython",
    "version": 3
   },
   "file_extension": ".py",
   "mimetype": "text/x-python",
   "name": "python",
   "nbconvert_exporter": "python",
   "pygments_lexer": "ipython3",
   "version": "3.11.5"
  }
 },
 "nbformat": 4,
 "nbformat_minor": 2
}
