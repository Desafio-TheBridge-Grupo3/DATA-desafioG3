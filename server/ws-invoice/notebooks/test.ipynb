{
 "cells": [
  {
   "cell_type": "code",
<<<<<<< Updated upstream
   "execution_count": 3,
=======
   "execution_count": 2,
>>>>>>> Stashed changes
   "metadata": {},
   "outputs": [],
   "source": [
    "import cv2 as cv\n",
    "import numpy as np\n",
    "import matplotlib.pyplot as plt\n",
    "import easyocr"
   ]
  },
  {
   "cell_type": "code",
   "execution_count": null,
   "metadata": {},
   "outputs": [],
   "source": [
    "# Leemos la imagen\n",
    "img = cv.imread('../data/image/temp_image.png')\n",
    "img = cv.cvtColor(img, cv.COLOR_BGR2RGB)\n",
    "plt.imshow(img)"
   ]
  },
  {
   "cell_type": "code",
   "execution_count": null,
   "metadata": {},
   "outputs": [],
   "source": [
    "gray = cv.cvtColor(img, cv.COLOR_BGR2GRAY)\n",
    "plt.imshow(gray, cmap='gray')"
   ]
  },
  {
   "cell_type": "code",
   "execution_count": null,
   "metadata": {},
   "outputs": [],
   "source": [
    "reader = easyocr.Reader(['es'])\n",
    "result = reader.readtext(gray)\n",
    "result"
   ]
  },
  {
   "cell_type": "code",
   "execution_count": null,
   "metadata": {},
   "outputs": [],
   "source": [
    "txt = \"\""
   ]
  },
  {
   "cell_type": "code",
   "execution_count": null,
   "metadata": {},
   "outputs": [],
   "source": [
    "for n in result:\n",
    "    txt += n[1] + \" \""
   ]
  },
  {
   "cell_type": "code",
   "execution_count": null,
   "metadata": {},
   "outputs": [],
   "source": [
    "import os"
   ]
  },
  {
   "cell_type": "code",
   "execution_count": 45,
   "metadata": {},
   "outputs": [],
   "source": [
    "def save_text_to_txt(text, txt_path):\n",
    "    if os.path.exists(os.path.dirname(txt_path)):\n",
    "        try:\n",
    "            with open(txt_path, 'w', encoding='utf-8') as txt_file:\n",
    "                txt_file.write(text)\n",
    "            print(f'Archivo guardado exitosamente en: {txt_path}')\n",
    "        except Exception as e:\n",
    "            print(f'Error al guardar el archivo: {e}')\n",
    "    else:\n",
    "        print(f'La ruta especificada no existe: {os.path.dirname(txt_path)}')"
   ]
  },
  {
   "cell_type": "code",
   "execution_count": null,
   "metadata": {},
   "outputs": [],
   "source": [
    "save_txt = \"\"\n",
    "img = cv.imread('../data/image/temp_image.png')\n",
    "gray = cv.cvtColor(img, cv.COLOR_BGR2GRAY)\n",
    "reader = easyocr.Reader(['es'])\n",
    "img_txt = reader.readtext(gray)\n",
    "\n",
    "for n in img_txt:\n",
    "    save_txt += n[1] + \" \"\n",
    "save_txt"
   ]
  },
  {
   "cell_type": "code",
   "execution_count": null,
   "metadata": {},
   "outputs": [],
   "source": [
    "save_text_to_txt(save_txt, \"data/txt/invoice.txt\")"
   ]
  },
  {
   "cell_type": "code",
   "execution_count": null,
   "metadata": {},
   "outputs": [],
   "source": [
    "txt"
   ]
  },
  {
   "cell_type": "code",
   "execution_count": 39,
   "metadata": {},
   "outputs": [],
   "source": [
    "import fitz\n",
    "# from langchain.chains import AnalyzeDocumentChain\n",
    "# from langchain.chat_models import ChatOpenAI\n",
    "# from langchain.chains.question_answering import load_qa_chain\n",
    "# import os"
   ]
  },
  {
   "cell_type": "code",
<<<<<<< Updated upstream
   "execution_count": null,
=======
   "execution_count": 3,
>>>>>>> Stashed changes
   "metadata": {},
   "outputs": [],
   "source": [
    "from dotenv import load_dotenv\n",
    "import os\n",
    "import re"
   ]
  },
  {
   "cell_type": "code",
   "execution_count": null,
   "metadata": {},
   "outputs": [],
   "source": [
    "load_dotenv()\n",
    "OPENAI_API_KEY = os.getenv(\"OPENAI_API_KEY\")"
   ]
  },
  {
   "cell_type": "code",
   "execution_count": null,
   "metadata": {},
   "outputs": [],
   "source": [
    "def create_qa_chain(): \n",
    "    llm = ChatOpenAI(model=\"gpt-3.5-turbo\", openai_api_key=OPENAI_API_KEY)\n",
    "    qa_chain = load_qa_chain(llm, chain_type=\"map_reduce\")\n",
    "    qa_document_chain = AnalyzeDocumentChain(combine_docs_chain=qa_chain)\n",
    "\n",
    "    return qa_document_chain\n"
   ]
  },
  {
   "cell_type": "code",
   "execution_count": null,
   "metadata": {},
   "outputs": [],
   "source": [
    "qa_document_chain = create_qa_chain()"
   ]
  },
  {
   "cell_type": "code",
   "execution_count": 28,
   "metadata": {},
   "outputs": [],
   "source": [
    "def extract_text_from_pdf(pdf_path):\n",
    "    doc = fitz.open(pdf_path)\n",
    "    full_text = \"\"\n",
    "\n",
    "    for page_num in range(doc.page_count - 1):\n",
    "        page = doc[page_num]\n",
    "        page_text = page.get_text()\n",
    "        full_text += page_text\n",
    "\n",
    "    doc.close()\n",
    "\n",
    "    return full_text"
   ]
  },
  {
   "cell_type": "code",
   "execution_count": null,
   "metadata": {},
   "outputs": [],
   "source": [
    "def save_text_to_txt(text, txt_path):\n",
    "    with open(txt_path, 'w', encoding='utf-8') as txt_file:\n",
    "        txt_file.write(text)"
   ]
  },
  {
   "cell_type": "code",
   "execution_count": null,
   "metadata": {},
   "outputs": [],
   "source": [
    "def response_question_langchain(question):\n",
    "    fragment_size = 4096\n",
    "    all_responses= {\"response\" : [], \"error\": []}\n",
    "    with open(\"invoice.txt\", 'r', encoding='utf-8') as file:\n",
    "        while True:\n",
    "            part = file.read(fragment_size)\n",
    "            if not part:\n",
    "                break\n",
    "            try:\n",
    "                response = qa_document_chain.run(\n",
    "                    input_document=part,\n",
    "                    question=question,\n",
    "                )\n",
    "                all_responses[\"response\"].append(response)\n",
    "            except Exception as e:\n",
    "                all_responses[\"error\"].append(str(e))\n",
    "    return all_responses\n"
   ]
  },
  {
   "cell_type": "code",
   "execution_count": 31,
   "metadata": {},
   "outputs": [],
   "source": [
    "pdf_path = '.\\\\data\\\\pdf\\\\invoice.pdf'\n"
   ]
  },
  {
   "cell_type": "code",
   "execution_count": null,
   "metadata": {},
   "outputs": [],
   "source": [
    "# Replace 'your_file.pdf' with the path to your PDF file\n",
    "extracted_text = extract_text_from_pdf(pdf_path)\n",
    "save_text_to_txt(extracted_text, \"invoice.txt\")"
   ]
  },
  {
   "cell_type": "code",
   "execution_count": null,
   "metadata": {},
   "outputs": [],
   "source": [
    "question = \"Dame solo el numero de la Potencia Punta\"\n",
    "response = response_question_langchain(question)\n",
    "print(response)\n"
   ]
  },
  {
   "cell_type": "code",
   "execution_count": null,
   "metadata": {},
   "outputs": [],
   "source": [
    "pdf_path = 'asenergy.pdf'\n",
    "extracted_text = extract_text_from_pdf(pdf_path)\n",
    "save_text_to_txt(extracted_text, \"invoice.txt\")"
   ]
  },
  {
   "cell_type": "code",
   "execution_count": null,
   "metadata": {},
   "outputs": [],
   "source": [
    "question = \"Dame solo el numero de la Potencia Punta\"\n",
    "response = response_question_langchain(question)\n",
    "print(response)"
   ]
  },
  {
   "cell_type": "code",
   "execution_count": null,
   "metadata": {},
   "outputs": [],
   "source": [
    "pdf_path = 'endesa.pdf'\n",
    "extracted_text = extract_text_from_pdf(pdf_path)\n",
    "save_text_to_txt(extracted_text, \"invoice.txt\")"
   ]
  },
  {
   "cell_type": "code",
   "execution_count": null,
   "metadata": {},
   "outputs": [],
   "source": [
    "question = \"Dame solo el numero de la Pot.Punta\"\n",
    "response = response_question_langchain(question)\n",
    "print(response)"
   ]
  },
  {
   "cell_type": "code",
   "execution_count": 7,
   "metadata": {},
   "outputs": [],
   "source": [
    "import re\n",
    "\n",
    "# Patrón de regex para encontrar números de punto flotante\n",
    "patron = r'\\b\\d+[.,]\\d+\\b'"
   ]
  },
  {
   "cell_type": "code",
   "execution_count": null,
   "metadata": {},
   "outputs": [],
   "source": [
    "response"
   ]
  },
  {
   "cell_type": "code",
   "execution_count": null,
   "metadata": {},
   "outputs": [],
   "source": [
    "import copy"
   ]
  },
  {
   "cell_type": "code",
   "execution_count": null,
   "metadata": {},
   "outputs": [],
   "source": [
    "clean_response = copy.deepcopy(response)\n",
    "clean_response"
   ]
  },
  {
   "cell_type": "code",
   "execution_count": null,
   "metadata": {},
   "outputs": [],
   "source": [
    "def invoice_clean_data(response):\n",
    "    not_answer = [\"lo siento\",\"no se\", \"no puedo\", \"no se menciona\"]\n",
    "    for i,r in enumerate(response[\"response\"]):\n",
    "        if any(word.lower() in r.lower() for word in not_answer):\n",
    "            clean_response[\"response\"][i] = \" \"\n",
    "        else:\n",
    "            result = re.findall(patron,r)\n",
    "            result = result[0].replace(\",\",\".\")\n",
    "            clean_response[\"response\"][i] = result\n",
    "    return clean_response"
   ]
  },
  {
   "cell_type": "code",
   "execution_count": null,
   "metadata": {},
   "outputs": [],
   "source": [
    "clean_response"
   ]
  },
  {
   "cell_type": "code",
   "execution_count": null,
   "metadata": {},
   "outputs": [],
   "source": [
    "response"
   ]
  },
  {
   "cell_type": "code",
   "execution_count": null,
   "metadata": {},
   "outputs": [],
   "source": [
    "\n",
    "def extract_cups(link):\n",
    "\n",
    "    cups_pattern = re.compile(r'cups=[A-Z0-9]+')\n",
    "    matches = cups_pattern.findall(link)\n",
    "\n",
    "    cleaned_matches = [''.join(match.split()) for match in matches]\n",
    "\n",
    "    return cleaned_matches[0][5:]"
   ]
  },
  {
   "cell_type": "code",
   "execution_count": null,
   "metadata": {},
   "outputs": [],
   "source": [
    "link = \"https://comparador.cnmc.gob.es/comparador/QRE?cp=49600&pP1=4.60&pP2=4.60&caP1=370&caP2=390&caP3=819&iniA=2022-08-27&tc=F0&finPen=0000-00-00&finContrato=2024-06-12&tf=N&imp=38.62&cfP1=33&cfP2=40&cfP3=74&iniF=2023-07-10&finF=2023-08-09&impSA=0&impOtrosConIE=0&impOtrosSinIE=0.8&exc=0.00&com=R2-001&cups=ES0021000010052134MG0F&pmaxP1=0.00&pmaxP2=0.00&fFact=2023-08-21&dtoBS=0&finBS=1.15&ajuste=0&impPot=12.05&impEner=35.49&dto=12.89&prP1=30.433800&prP2=1.434024&prE1=0.241445&prE2=&prE3=&cfP1flex=&cfP2flex=&cambio=&promo=1&verde=&rev=0\""
   ]
  },
  {
   "cell_type": "code",
   "execution_count": null,
   "metadata": {},
   "outputs": [],
   "source": [
    "extract_cups(link)"
   ]
  },
  {
   "cell_type": "code",
<<<<<<< Updated upstream
   "execution_count": 22,
=======
   "execution_count": null,
   "metadata": {},
   "outputs": [],
   "source": []
  },
  {
   "cell_type": "code",
   "execution_count": 14,
>>>>>>> Stashed changes
   "metadata": {},
   "outputs": [],
   "source": [
    "def prices_invoice():\n",
    "    patron = re.compile(r'\\b\\d+,\\d{6}\\b')\n",
    "    with open(\"../data/txt/invoice.txt\", 'r', encoding='utf-8') as txt_file:\n",
    "        txt_file = txt_file.read()\n",
    "\n",
    "    matches = patron.findall(txt_file)\n",
    "\n",
    "    cleaned_matches = [''.join(match.split()) for match in matches]\n",
    "\n",
    "    patron = r'€/kWh|€/kW'\n",
    "    measured = re.findall(patron, txt_file)\n",
    "    return measured,cleaned_matches"
   ]
  },
  {
   "cell_type": "code",
<<<<<<< Updated upstream
   "execution_count": 18,
=======
   "execution_count": 15,
>>>>>>> Stashed changes
   "metadata": {},
   "outputs": [
    {
     "data": {
      "text/plain": [
<<<<<<< Updated upstream
       "'gAseNergy Número de factura: 230083671 DETALLE DE TU CONSUMO Término Potencia 13,48 € P1 3,300 kW x 31 Días x 0,105952 €/kW día P3 3,300 kW x 31 Días x 0,025820 €/kW día Término Energía ATR 5,90 € P1 55 kWh x 0,072991 €/kWh P2 55 kWh x 0,028573 €/kWh P3 102 kWh x 0,003175 €/kWh Término Energía Libre 32,37 € P1 55 kWh x 0,159265 €/kWh P2 55 kWh x 0,185653 €/kWh P3 102 kWh x 0,131326 €/kWh Productos 1,19 € Financiación Bono Social 1 6 ; 2 1 g Base Imponible 54,03 € L LVA. (5,009) 2,70 € : Impuesto sobre la electricidad 0,26 € F 0,50000000 % sobre 52,94 € x 1 1 Alquiler de equipos 0,83 € 8 Alquiler Equipo Distribuidora 2 TOTAL 56,73 € 1 0 DESTINO DEL IMPORTE DE LA FACTURA IMPACTO MEDIO AMBIENTAL , RECORE:0,00 El impacto ambiental de su electricidad depende de las g fuentes energéticas utilizadas para su generación. En una escala de A a G donde A indica el minimo impacto ambiental 9 DÉFICIT:3,24 y G el máximo y que por el valor nacional   correspondiente al 9 nivel D, la energía comercializada por ALQUILER SEGURO TNP:0,72 ENERGIA, SA tiene los siguientes valores: < 3 OTROS: 1,90 1 Impuestos: 2,96 Cargos: 4,00 , Alquiler Contador: ,83 Peajes de Transporte Energía: 39,55 9,39 Distribución: A los importes indicados en diagrama debe añadirse, en su caso, importe 9 del alquiler de los equipos de medida control: 0,83€ Emisiones de dióxido de Residuos radiactivos Alta carbono Actividad El que a buen Gracias por consumir una energía sostenible certificada árbol se arrima, buena sombra le La energía que te hemos suministrado viene avalada como energía renovable por la Oficina Certificadora de Garantías de cobija Origen; perteneciente la Comisión Nacional de los Mercados y Competencia de España. '"
      ]
     },
     "execution_count": 18,
=======
       "'SV01   004959   019817   20231113\\nFACTURA DE\\nELECTRICIDAD\\nIBERDROLA CLIENTES, S.A.U.\\nCIF A-95758389\\njg\\tDF+\"\\x01\"\\\\\\x03\\x02=\\x15[\\x15\\x01\\x0b\\x0c \\x0e\\x06k\\n08676942330033910201602090200010113113\\nRemite: IBERDROLA CLIENTES, S.A.U. Apartado de Correos 61175 28080 Madrid\\nDY 910 M S 0867694233 0 1 08\\nADRIAN MORON BLANCO\\nPlza ANDATZA, 4, 2º C\\n20160 LASARTE-ORIA (GIPUZKOA)\\nCONTRATO\\nTitular\\nPotencia:\\nADRIAN MORON BLANCO\\nPotencia punta: 3,3 kW\\nPotencia valle: 3,3 kW\\nDirección de suministro:\\nPlza ANDATZA, 4, 2º C  20160\\nLASARTE-ORIA (GIPUZKOA)\\nNº DE CONTRATO: 867694233\\nRESUMEN DE FACTURA\\nPERIODO DE FACTURACIÓN:\\n08/10/2023 - 08/11/2023\\nNº FACTURA:\\n21231113010286565\\nDIAS FACTURADOS:\\n31\\nFECHA DE EMISIÓN:\\n13 de noviembre de 2023\\n \\nENERGÍA............................................................................ 62,82 €\\nDESCUENTOS ENERGÍA ..............................................-9,38 €\\nCARGOS NORMATIVOS ................................................... 1,19 €\\nSERVICIOS Y OTROS CONCEPTOS.......................... 0,83 €\\nIVA........................................................................................... 2,77 €\\nTOTAL\\n58,23\\xa0€\\nFECHA PREVISTA DE COBRO: 21/11/2023\\nwww.iberdrola.es\\n   clientes@tuiberdrola.es\\nAPP Iberdrola Clientes\\nOficina de Atención Iberdrola:\\nAtención al Cliente\\n900 225 235\\n94 646 01 25\\nNotificación\\nde\\xa0averías\\xa0en\\xa0la\\xa0zona\\n900171171\\nReparaciones\\neléctricas del hogar\\n900 22 45 22\\n94 646 29 31\\ni-DE, Redes Eléctricas\\nInteligentes, S.A.U.\\n¿LE PODEMOS AYUDAR?\\nps\\nCALLE MAYOR 44 20160 LASARTE-ORIA\\nCALLE ELKANO KALEA 13 20120 HERNANI\\nPuede encontrar el desglose detallado de los conceptos\\nfacturados en el reverso de esta factura. Además, en\\niberdrola.info/factura-luz le explicamos con detalle la factura,\\npara que entenderla sea más fácil que nunca.\\n1/4\\nDocumento emitido por IBERDROLA CLIENTES, S.A.U. - domicilio fiscal: C/ Tomás Redondo 1, 28033 Madrid; domicilio social: Plaza Euskadi 5, 48009 Bilbao; inscrita en el Registro Mercantil de Bizkaia, tomo 5448, folio 19, hoja BI-63981, inscripción 1ª - CIF A-95758389\\nÐuvlvÑ\\n09100010\\n        INFORMACIÓN SOBRE CONSUMO\\nOc.\\n23\\nNv.\\n23\\nkWh\\n100\\n200\\n300\\n400\\nConsumo total de\\nesta factura.\\nConsumo medio diario\\nen esta factura.\\nConsumo medio diario\\nen los últimos 1 meses.\\n242 kWh\\n1,87 €\\n2,17 €\\nPuede consultar el detalle de su consumo hora a hora en Mi Área Cliente en www.iberdrola.es\\ny en la APP de Iberdrola Clientes. También puede acceder a los datos de medida de su\\ncontador inteligente a través de la web de su empresa distribuidora www.i-de.es/clientes.\\n \\n     EVOLUCIÓN DE CONSUMO (kWh)\\n \\n         \\nDETALLE DE FACTURA\\nDETALLE DE FACTURA\\nINFORMACION ADICIONAL\\nEl 13,3% está\\ndestinado a\\nimpuestos y cargos\\n66,1%\\n17,2%\\n5,2%\\n1,4%\\n8,1%\\n2,0%\\nEnergía\\n66,1%\\nPeajes de Transporte y Distribución\\n17,2%\\nImpuestos\\n5,2%\\nAlquiler contador\\n1,4%\\nBono Social\\n2,0%\\nCargos\\n8,1%\\nRenovables, cogeneración y residuos\\n0,0%\\nAnualidades del déficit\\n6,5%\\nSobrecoste generación no peninsular\\n1,5%\\nOtros\\n0,1%\\nENERGÍA\\nPotencia facturada\\nPunta 3,3 kW x 31 días x 0,099528 €/kW día\\n10,18 €\\nValle 3,3 kW x 31 días x 0,016405 €/kW día\\n1,68 €\\nTotal importe potencia hasta 08/11/2023\\n11,86 €\\nEnergía consumida\\n242 kWh  x  0,209469 €/kWh\\n50,69 €\\nDescuento sobre consumo 15%\\n15% s/50,69 €\\n-7,60 €\\nDescuento sobre T. Potencia\\n15% s/11,86 €\\n-1,78 €\\nCARGOS NORMATIVOS\\nFinanciación bono social fijo\\n31 días  x  0,038455 €/día\\n1,19 €\\nImpuesto sobre electricidad (*)\\n0,5% s/54,36 €\\n0,27 €\\nTOTAL ENERGÍA\\n54,63 €\\nSERVICIOS Y OTROS CONCEPTOS\\nAlquiler equipos medida\\n31 días  x  0,02663 €/día\\n0,83 €\\nAsistente Smart Iberdrola\\n1,01 meses  x  0,99 €/mes\\n1,00 €\\nDto Asistente Smart\\n100% s/1 €\\n-1,00 €\\nTOTAL SERVICIOS Y OTROS CONCEPTOS\\n0,83 €\\nIMPORTE TOTAL\\n55,46 €\\nIVA Reducido (*)\\n5% s/55,46 €\\n2,77 €\\nTOTAL IMPORTE FACTURA\\n58,23 €\\nNIF titular del contrato:\\n53901164C\\nNº contador:\\n0000082040\\nPeaje de acceso a la red (ATR):\\n2.0TD\\nPrecios de peajes de acceso:\\nB.O.E. del 22/12/2022\\nFecha final del contrato:\\n06/10/2024\\nEmpresa distribuidora:\\ni-DE, Redes Eléctricas Inteligentes, S.A.U.\\nNúmero de contrato de acceso:\\n0027783790\\nIdentificación punto de suministro (CUPS):\\nES 0021 0000 0351 8693 SN\\nForma de pago:\\nDOMICILIACION BANCARIA\\nIBAN:\\nES65 0030 1137 6003 9086 ****\\nBIC:\\nBSCHESMMXXX\\nCódigo de mandato:\\n275464214000\\n**** (Ocultos para su seguridad)\\n(*) En virtud del Real Decreto-ley 17/2021, de 14 de septiembre, el impuesto especial sobre la electricidad aplicable a su factura se encuentra reducido\\ndel 5,11269632% al 0,5%.\\nLas lecturas desagregadas según la tarifa de acceso, tomadas el 08/11/2023 son: punta: 1.319 kWh; llano: 1.021 kWh; valle 324 kWh, siendo estas lecturas\\nreales. Sus consumos desagregados han sido punta: 68 kWh; llano: 68 kWh; valle 106 kWh.\\nLas potencias máximas demandadas en el último año han sido 2,64 kW en P1 (punta) y 2,7 kW en P2 (valle).\\nPara el periodo de esta factura el consumo medio de electricidad de los suministros en su mismo código postal ha sido de 159,21 kWh.\\nEl importe de los peajes de acceso a redes en esta factura, sin impuestos, es de 15,56 €, desglosado en: Potencia: 7,49 € , Energía: 7,24 €, Alquiler de\\ncontador: 0,83 €. Impuestos aplicables:  Impuesto Eléctrico e IVA u otros impuestos indirectos. Estos importes están englobados en el importe total de\\nla factura (no representan coste adicional).\\nPara reclamaciones relacionadas con el contrato de suministro o la facturación puede dirigirse a cualquiera de los canales de atención indicados en esta\\nfactura, o en el Apartado de Correos 61090, 28080 de Madrid. Si su reclamación no ha sido resuelta o ha superado el plazo de 30 días, puede dirigirse a\\nla Junta Arbitral de Consumo de su Comunidad Autónoma. Además puede acudir a los órganos competentes en materia de Consumo y/o Energía de\\ndicha Comunidad Autónoma.\\n2/4\\nCertificado PEFC. Este papel procede de bosques gestionados de forma sostenible y fuentes controladas. www.pefc.es\\n \\n3/4\\nőēįįįēőÒĻļŅîĳúĽĨŏĘĩÖğĦŋĎđŐÙĄġĶ×ÖùĺÝŊėĪ×ĦıĜĵĮŅĺăüıĜáĮıÞęĞħþùĺóČÓŌāèçÔďĔóòéĊćîėèěĸěÒőēįįįēő\\nĉèþýßûüćįúňÿçŋŋĽòĶē×ģíľČãĔėòłćòĀķĢÜĵęéēÒŃäĂĶÞĘĀĵāŐŋİăļĶăđĈŅïĥáóęőķīñéôßķěĖôĘþĕĩċĸíĄãìöÛþĉ\\nńĀĿďĜĜħèĿł÷éÔĸèÚäāŁěľĈçĭķąþĹãėļłßďòÙČÿøĄĽòŃåņīďüĎõùćĝĝġĒėĲÝúÖæĩĠßŉÖĝōóľłŉĮëÚņĨØæÕńĽùłÔėÿĤ\\nŋîôňīåüġĆŉėÝáøĩĢó×ŎėěĢĬĆöĪŌÒŃĪľíıôøĨîċÙðĕłħĿňĸĐĘĦĪàőēĊÕĨāĵåćĵġðďĢÞÒĔĝńúŃĢİĂĮ×èĦłăĞéĤĻłàÞĩ\\nĬŇĒėŐĖħėőÿĽÛġßŎĤĒÛÜĀĶùĘŃòāĊġŐĘĨĖŎÖńļĂŌģÿďĻÙÙĕĹĲĴČĄĢĒĀďŎęĦĖŏēÕŃíâňāûğŊĘģģĥüþĊĿÓûíŐęħęŐĶĜŀü\\nĖłĸÔėûüãŎúĒČÙýĉŀøĜĳÙĖðŐĔăęĵėĘóĮŁßĽäāć×ăñÞġĘĦÙÕĽăņăŊøìĬŇŋøēńĤÚķÓăĵĂłÞìþëīģĳÝĆĳĂăĂúÝėčãÙĄĲğ\\nŅþÒÙįŅħįĘÝÛôĵôŅŎŋúØıùÔĪáîĸĢÞŉĬčĸĬŎĎĄĵġăĪčôðáāĮĥäõôŏďļÞēęĴĵĆÛĵĘÚĳąĶÔĂěîéĖĸĦîŁøďĕőĂŅĮîĥĤŇŌâ\\nŇĪûĢÙĘüäĕŏÚĿĕĲãøìŏöåĖä×ŏõŁěûąİĬĠéňýĐõďĔāěéâĀîīØŇĥŏĳĹĲäŉĀňØĝ÷ňĀŎÕīōđćĺŎðßñèûÓÛĺĉęýĠüÔĩûĵßù\\nÕĉķĝŊéħìőûģĀĉľěŃêģĚîĕŎĆŇļŏĶúŌñĤìŌĜĹìĀĵŅàĵćńóĊßîĊÖńçÛŁĊŅñİçŏĆłāĀďÛĕāĻØĲþĄ×ãăÞŎĝôåņêĥïŃēĤ×ĝ\\nýîĪēĻáüĈóäġĊûčőŁłîáćĳáīÕÝö×ŃôĜ÷ħŀûôīãîúĭÙăŃúûôĪħŎėĦĈðċğÙĔĖŇģíĂŇßĜàāùéċōĲńĂĎîãľďäÞċåłõíľëõ\\nĀĸĊĈçĽħĄĖòÓĖØāÚŐķüĂùĝàĊÿďęŌĽüðñķĈŃÚŎêĢÿĵÖöÔěŁõóęČőñĨĠÕĲØĮŉňĿěłīĊąîęĀóĢĔóĊŏñĞÚÞêĘćùÜñēĚÛìĎ\\nčĤÔüĤĤýĒőĥĜİÞÖøĸěĪëĮāīĞĽÝĆőĸıĊŌÚāÞüáłĚĂĲŎďøôŎĐĵćķêëđĮĔġŊĬÚġĩäĕĖĝñĬĲĞĮĐôĹńĵĨĺÓċĄĮđúĬĚáîïŎÖ\\nŎÖņņņÖŎÒĆÚæĺľľĺĢæúĖêĞÖêþĲĞņöĦĒłĒłĂúŎòĺòþÚÖêĖÞĊņêĢĊņĮúŊĖĦŎŊĞÞĮĚŊľþĲŊúâĢîÞĶîÚþĚÒÚĮĖľĒņĒîÒĞâ\\n(*) En virtud del Real Decreto-ley 12/2021, de 24 de junio, el IVA aplicable a su factura se encuentra reducido del 21% al 5%.\\nEn el código QR o en el enlace https://comparador.cnmc.gob.es puede consultar y comparar las distintas ofertas vigentes de\\nlas comercializadoras de energía eléctrica en mercado libre.\\n'"
      ]
     },
     "execution_count": 15,
>>>>>>> Stashed changes
     "metadata": {},
     "output_type": "execute_result"
    }
   ],
   "source": [
    "with open(\"../data/txt/invoice.txt\", 'r', encoding='utf-8') as txt_file:\n",
    "    txt = txt_file.read()\n",
    "txt"
   ]
  },
  {
   "cell_type": "code",
<<<<<<< Updated upstream
   "execution_count": 9,
   "metadata": {},
   "outputs": [
    {
     "name": "stdout",
     "output_type": "stream",
     "text": [
      "gAseNergy Número de factura: 230083671 DETALLE DE TU CONSUMO Término Potencia 13,48 € P1 3,300 kW x 31 Días x 0,105952 €/kW día P3 3,300 kW x 31 Días x 0,025820 €/kW día Término Energía ATR 5,90 € P1 55 kWh x 0,072991 €/kWh P2 55 kWh x 0,028573 €/kWh P3 102 kWh x 0,003175 €/kWh Término Energía Libre 32,37 € P1 55 kWh x 0,159265 €/kWh P2 55 kWh x 0,185653 €/kWh P3 102 kWh x 0,131326 €/kWh Productos 1,19 € Financiación Bono Social 1 6 ; 2 1 g Base Imponible 54,03 € L LVA. (5,009) 2,70 € : Impuesto sobre la electricidad 0,26 € F 0,50000000 % sobre 52,94 € x 1 1 Alquiler de equipos 0,83 € 8 Alquiler Equipo Distribuidora 2 TOTAL 56,73 € 1 0 DESTINO DEL IMPORTE DE LA FACTURA IMPACTO MEDIO AMBIENTAL , RECORE:0,00 El impacto ambiental de su electricidad depende de las g fuentes energéticas utilizadas para su generación. En una escala de A a G donde A indica el minimo impacto ambiental 9 DÉFICIT:3,24 y G el máximo y que por el valor nacional   correspondiente al 9 nivel D, la energía comercializada por ALQUILER SEGURO TNP:0,72 ENERGIA, SA tiene los siguientes valores: < 3 OTROS: 1,90 1 Impuestos: 2,96 Cargos: 4,00 , Alquiler Contador: ,83 Peajes de Transporte Energía: 39,55 9,39 Distribución: A los importes indicados en diagrama debe añadirse, en su caso, importe 9 del alquiler de los equipos de medida control: 0,83€ Emisiones de dióxido de Residuos radiactivos Alta carbono Actividad El que a buen Gracias por consumir una energía sostenible certificada árbol se arrima, buena sombra le La energía que te hemos suministrado viene avalada como energía renovable por la Oficina Certificadora de Garantías de cobija Origen; perteneciente la Comisión Nacional de los Mercados y Competencia de España. \n"
     ]
    }
   ],
   "source": [
    "print(txt)"
=======
   "execution_count": 16,
   "metadata": {},
   "outputs": [
    {
     "data": {
      "text/plain": [
       "(['€/kW', '€/kW', '€/kWh'], ['0,099528', '0,016405', '0,209469', '0,038455'])"
      ]
     },
     "execution_count": 16,
     "metadata": {},
     "output_type": "execute_result"
    }
   ],
   "source": [
    "prices_invoice()"
>>>>>>> Stashed changes
   ]
  },
  {
   "cell_type": "code",
<<<<<<< Updated upstream
   "execution_count": 25,
   "metadata": {},
   "outputs": [],
   "source": [
    "cleaned_matches = prizes_invoice()"
=======
   "execution_count": 17,
   "metadata": {},
   "outputs": [],
   "source": [
    "import pandas as pd"
   ]
  },
  {
   "cell_type": "code",
   "execution_count": 18,
   "metadata": {},
   "outputs": [],
   "source": [
    "def assign_p_values(df,p_counter_kW,p_counter_kWh):\n",
    "\n",
    "    if df['unidades'] == '€/kW':\n",
    "        p_counter_kW += 1\n",
    "        return f'p{p_counter_kW}'\n",
    "    elif df['unidades'] == '€/kWh':\n",
    "        p_counter_kWh += 1\n",
    "        return f'p{p_counter_kWh}'\n",
    "    else:\n",
    "        return ''\n",
    "def df_create(measured, cleaned_matches):\n",
    "    data = {'precios': cleaned_matches, 'unidades': measured}\n",
    "    df = pd.DataFrame.from_dict(data, orient='index').transpose()\n",
    "    df.dropna(inplace=True)\n",
    "    return df\n",
    "\n",
    "def assign_p_values(df,p_counter_kW,p_counter_kWh):\n",
    "\n",
    "    if df['unidades'] == '€/kW':\n",
    "        p_counter_kW += 1\n",
    "        return f'p{p_counter_kW}'\n",
    "    elif df['unidades'] == '€/kWh':\n",
    "        p_counter_kWh += 1\n",
    "        return f'p{p_counter_kWh}'\n",
    "    else:\n",
    "        return ''\n",
    "\n",
    "def json_prices(df):\n",
    "    pdf_scarp_info = {\n",
    "    \"p1_price_kw\": [],\n",
    "    \"p2_price_kw\": [],\n",
    "    \"p3_price_kw\": [],\n",
    "    \"p4_price_kw\": [],\n",
    "    \"p5_price_kw\": [],\n",
    "    \"p6_price_kw\": [],\n",
    "    \"p1_price_kwh\": [],\n",
    "    \"p2_price_kwh\": [],\n",
    "    \"p3_price_kwh\": [],\n",
    "    \"p4_price_kwh\": [],\n",
    "    \"p5_price_kwh\": [],\n",
    "    \"p6_price_kwh\": [],\n",
    "        }\n",
    "\n",
    "    for index, row in df.iterrows():\n",
    "        price_type = f\"{row['P_values']}price{row['unidades'][2:].lower()}\"\n",
    "        pdf_scarp_info[price_type].append(row['precios'])\n",
    "\n",
    "    return pdf_scarp_info"
   ]
  },
  {
   "cell_type": "code",
   "execution_count": 19,
   "metadata": {},
   "outputs": [],
   "source": [
    "p_counter_kW = 0\n",
    "p_counter_kWh = 0"
   ]
  },
  {
   "cell_type": "code",
   "execution_count": 26,
   "metadata": {},
   "outputs": [
    {
     "data": {
      "text/html": [
       "<div>\n",
       "<style scoped>\n",
       "    .dataframe tbody tr th:only-of-type {\n",
       "        vertical-align: middle;\n",
       "    }\n",
       "\n",
       "    .dataframe tbody tr th {\n",
       "        vertical-align: top;\n",
       "    }\n",
       "\n",
       "    .dataframe thead th {\n",
       "        text-align: right;\n",
       "    }\n",
       "</style>\n",
       "<table border=\"1\" class=\"dataframe\">\n",
       "  <thead>\n",
       "    <tr style=\"text-align: right;\">\n",
       "      <th></th>\n",
       "      <th>precios</th>\n",
       "      <th>unidades</th>\n",
       "    </tr>\n",
       "  </thead>\n",
       "  <tbody>\n",
       "    <tr>\n",
       "      <th>0</th>\n",
       "      <td>0,099528</td>\n",
       "      <td>€/kW</td>\n",
       "    </tr>\n",
       "    <tr>\n",
       "      <th>1</th>\n",
       "      <td>0,016405</td>\n",
       "      <td>€/kW</td>\n",
       "    </tr>\n",
       "    <tr>\n",
       "      <th>2</th>\n",
       "      <td>0,209469</td>\n",
       "      <td>€/kWh</td>\n",
       "    </tr>\n",
       "  </tbody>\n",
       "</table>\n",
       "</div>"
      ],
      "text/plain": [
       "    precios unidades\n",
       "0  0,099528     €/kW\n",
       "1  0,016405     €/kW\n",
       "2  0,209469    €/kWh"
      ]
     },
     "execution_count": 26,
     "metadata": {},
     "output_type": "execute_result"
    }
   ],
   "source": [
    "df"
   ]
  },
  {
   "cell_type": "code",
   "execution_count": 28,
   "metadata": {},
   "outputs": [
    {
     "ename": "ValueError",
     "evalue": "The truth value of a Series is ambiguous. Use a.empty, a.bool(), a.item(), a.any() or a.all().",
     "output_type": "error",
     "traceback": [
      "\u001b[1;31m---------------------------------------------------------------------------\u001b[0m",
      "\u001b[1;31mValueError\u001b[0m                                Traceback (most recent call last)",
      "\u001b[1;32m~\\AppData\\Local\\Temp\\ipykernel_30304\\2482368929.py\u001b[0m in \u001b[0;36m?\u001b[1;34m()\u001b[0m\n\u001b[0;32m      1\u001b[0m \u001b[0mmeasured\u001b[0m\u001b[1;33m,\u001b[0m\u001b[0mcleaned_matches\u001b[0m \u001b[1;33m=\u001b[0m \u001b[0mprices_invoice\u001b[0m\u001b[1;33m(\u001b[0m\u001b[1;33m)\u001b[0m\u001b[1;33m\u001b[0m\u001b[1;33m\u001b[0m\u001b[0m\n\u001b[0;32m      2\u001b[0m \u001b[0mdf\u001b[0m \u001b[1;33m=\u001b[0m \u001b[0mdf_create\u001b[0m\u001b[1;33m(\u001b[0m\u001b[0mmeasured\u001b[0m\u001b[1;33m,\u001b[0m \u001b[0mcleaned_matches\u001b[0m\u001b[1;33m)\u001b[0m\u001b[1;33m\u001b[0m\u001b[1;33m\u001b[0m\u001b[0m\n\u001b[0;32m      3\u001b[0m \u001b[0masign_column\u001b[0m \u001b[1;33m=\u001b[0m \u001b[1;32mlambda\u001b[0m \u001b[0mx\u001b[0m\u001b[1;33m:\u001b[0m \u001b[1;34mf'p{p_counter_kW}'\u001b[0m \u001b[1;32mif\u001b[0m \u001b[0mx\u001b[0m \u001b[1;33m==\u001b[0m \u001b[1;34m'€/kW'\u001b[0m \u001b[1;32melse\u001b[0m \u001b[1;33m(\u001b[0m\u001b[1;34mf'p{p_counter_kWh}'\u001b[0m \u001b[1;32mif\u001b[0m \u001b[0mx\u001b[0m \u001b[1;33m==\u001b[0m \u001b[1;34m'€/kWh'\u001b[0m \u001b[1;32melse\u001b[0m \u001b[1;34m''\u001b[0m\u001b[1;33m)\u001b[0m\u001b[1;33m\u001b[0m\u001b[1;33m\u001b[0m\u001b[0m\n\u001b[1;32m----> 4\u001b[1;33m \u001b[0mdf\u001b[0m\u001b[1;33m[\u001b[0m\u001b[1;34m'p_values'\u001b[0m\u001b[1;33m]\u001b[0m \u001b[1;33m=\u001b[0m \u001b[0mdf\u001b[0m\u001b[1;33m.\u001b[0m\u001b[0mapply\u001b[0m\u001b[1;33m(\u001b[0m\u001b[0masign_column\u001b[0m\u001b[1;33m,\u001b[0m\u001b[0maxis\u001b[0m\u001b[1;33m=\u001b[0m\u001b[1;36m1\u001b[0m\u001b[1;33m)\u001b[0m\u001b[1;33m\u001b[0m\u001b[1;33m\u001b[0m\u001b[0m\n\u001b[0m\u001b[0;32m      5\u001b[0m \u001b[0mprice\u001b[0m \u001b[1;33m=\u001b[0m \u001b[0mjson_prices\u001b[0m\u001b[1;33m(\u001b[0m\u001b[0mdf\u001b[0m\u001b[1;33m)\u001b[0m\u001b[1;33m\u001b[0m\u001b[1;33m\u001b[0m\u001b[0m\n",
      "\u001b[1;32mc:\\Users\\javie\\AppData\\Local\\Programs\\Python\\Python311\\Lib\\site-packages\\pandas\\core\\frame.py\u001b[0m in \u001b[0;36m?\u001b[1;34m(self, func, axis, raw, result_type, args, by_row, **kwargs)\u001b[0m\n\u001b[0;32m  10033\u001b[0m             \u001b[0mby_row\u001b[0m\u001b[1;33m=\u001b[0m\u001b[0mby_row\u001b[0m\u001b[1;33m,\u001b[0m\u001b[1;33m\u001b[0m\u001b[1;33m\u001b[0m\u001b[0m\n\u001b[0;32m  10034\u001b[0m             \u001b[0margs\u001b[0m\u001b[1;33m=\u001b[0m\u001b[0margs\u001b[0m\u001b[1;33m,\u001b[0m\u001b[1;33m\u001b[0m\u001b[1;33m\u001b[0m\u001b[0m\n\u001b[0;32m  10035\u001b[0m             \u001b[0mkwargs\u001b[0m\u001b[1;33m=\u001b[0m\u001b[0mkwargs\u001b[0m\u001b[1;33m,\u001b[0m\u001b[1;33m\u001b[0m\u001b[1;33m\u001b[0m\u001b[0m\n\u001b[0;32m  10036\u001b[0m         )\n\u001b[1;32m> 10037\u001b[1;33m         \u001b[1;32mreturn\u001b[0m \u001b[0mop\u001b[0m\u001b[1;33m.\u001b[0m\u001b[0mapply\u001b[0m\u001b[1;33m(\u001b[0m\u001b[1;33m)\u001b[0m\u001b[1;33m.\u001b[0m\u001b[0m__finalize__\u001b[0m\u001b[1;33m(\u001b[0m\u001b[0mself\u001b[0m\u001b[1;33m,\u001b[0m \u001b[0mmethod\u001b[0m\u001b[1;33m=\u001b[0m\u001b[1;34m\"apply\"\u001b[0m\u001b[1;33m)\u001b[0m\u001b[1;33m\u001b[0m\u001b[1;33m\u001b[0m\u001b[0m\n\u001b[0m",
      "\u001b[1;32mc:\\Users\\javie\\AppData\\Local\\Programs\\Python\\Python311\\Lib\\site-packages\\pandas\\core\\apply.py\u001b[0m in \u001b[0;36m?\u001b[1;34m(self)\u001b[0m\n\u001b[0;32m    833\u001b[0m         \u001b[1;31m# raw\u001b[0m\u001b[1;33m\u001b[0m\u001b[1;33m\u001b[0m\u001b[0m\n\u001b[0;32m    834\u001b[0m         \u001b[1;32melif\u001b[0m \u001b[0mself\u001b[0m\u001b[1;33m.\u001b[0m\u001b[0mraw\u001b[0m\u001b[1;33m:\u001b[0m\u001b[1;33m\u001b[0m\u001b[1;33m\u001b[0m\u001b[0m\n\u001b[0;32m    835\u001b[0m             \u001b[1;32mreturn\u001b[0m \u001b[0mself\u001b[0m\u001b[1;33m.\u001b[0m\u001b[0mapply_raw\u001b[0m\u001b[1;33m(\u001b[0m\u001b[1;33m)\u001b[0m\u001b[1;33m\u001b[0m\u001b[1;33m\u001b[0m\u001b[0m\n\u001b[0;32m    836\u001b[0m \u001b[1;33m\u001b[0m\u001b[0m\n\u001b[1;32m--> 837\u001b[1;33m         \u001b[1;32mreturn\u001b[0m \u001b[0mself\u001b[0m\u001b[1;33m.\u001b[0m\u001b[0mapply_standard\u001b[0m\u001b[1;33m(\u001b[0m\u001b[1;33m)\u001b[0m\u001b[1;33m\u001b[0m\u001b[1;33m\u001b[0m\u001b[0m\n\u001b[0m",
      "\u001b[1;32mc:\\Users\\javie\\AppData\\Local\\Programs\\Python\\Python311\\Lib\\site-packages\\pandas\\core\\apply.py\u001b[0m in \u001b[0;36m?\u001b[1;34m(self)\u001b[0m\n\u001b[0;32m    962\u001b[0m     \u001b[1;32mdef\u001b[0m \u001b[0mapply_standard\u001b[0m\u001b[1;33m(\u001b[0m\u001b[0mself\u001b[0m\u001b[1;33m)\u001b[0m\u001b[1;33m:\u001b[0m\u001b[1;33m\u001b[0m\u001b[1;33m\u001b[0m\u001b[0m\n\u001b[1;32m--> 963\u001b[1;33m         \u001b[0mresults\u001b[0m\u001b[1;33m,\u001b[0m \u001b[0mres_index\u001b[0m \u001b[1;33m=\u001b[0m \u001b[0mself\u001b[0m\u001b[1;33m.\u001b[0m\u001b[0mapply_series_generator\u001b[0m\u001b[1;33m(\u001b[0m\u001b[1;33m)\u001b[0m\u001b[1;33m\u001b[0m\u001b[1;33m\u001b[0m\u001b[0m\n\u001b[0m\u001b[0;32m    964\u001b[0m \u001b[1;33m\u001b[0m\u001b[0m\n\u001b[0;32m    965\u001b[0m         \u001b[1;31m# wrap results\u001b[0m\u001b[1;33m\u001b[0m\u001b[1;33m\u001b[0m\u001b[0m\n\u001b[0;32m    966\u001b[0m         \u001b[1;32mreturn\u001b[0m \u001b[0mself\u001b[0m\u001b[1;33m.\u001b[0m\u001b[0mwrap_results\u001b[0m\u001b[1;33m(\u001b[0m\u001b[0mresults\u001b[0m\u001b[1;33m,\u001b[0m \u001b[0mres_index\u001b[0m\u001b[1;33m)\u001b[0m\u001b[1;33m\u001b[0m\u001b[1;33m\u001b[0m\u001b[0m\n",
      "\u001b[1;32mc:\\Users\\javie\\AppData\\Local\\Programs\\Python\\Python311\\Lib\\site-packages\\pandas\\core\\apply.py\u001b[0m in \u001b[0;36m?\u001b[1;34m(self)\u001b[0m\n\u001b[0;32m    975\u001b[0m \u001b[1;33m\u001b[0m\u001b[0m\n\u001b[0;32m    976\u001b[0m         \u001b[1;32mwith\u001b[0m \u001b[0moption_context\u001b[0m\u001b[1;33m(\u001b[0m\u001b[1;34m\"mode.chained_assignment\"\u001b[0m\u001b[1;33m,\u001b[0m \u001b[1;32mNone\u001b[0m\u001b[1;33m)\u001b[0m\u001b[1;33m:\u001b[0m\u001b[1;33m\u001b[0m\u001b[1;33m\u001b[0m\u001b[0m\n\u001b[0;32m    977\u001b[0m             \u001b[1;32mfor\u001b[0m \u001b[0mi\u001b[0m\u001b[1;33m,\u001b[0m \u001b[0mv\u001b[0m \u001b[1;32min\u001b[0m \u001b[0menumerate\u001b[0m\u001b[1;33m(\u001b[0m\u001b[0mseries_gen\u001b[0m\u001b[1;33m)\u001b[0m\u001b[1;33m:\u001b[0m\u001b[1;33m\u001b[0m\u001b[1;33m\u001b[0m\u001b[0m\n\u001b[0;32m    978\u001b[0m                 \u001b[1;31m# ignore SettingWithCopy here in case the user mutates\u001b[0m\u001b[1;33m\u001b[0m\u001b[1;33m\u001b[0m\u001b[0m\n\u001b[1;32m--> 979\u001b[1;33m                 \u001b[0mresults\u001b[0m\u001b[1;33m[\u001b[0m\u001b[0mi\u001b[0m\u001b[1;33m]\u001b[0m \u001b[1;33m=\u001b[0m \u001b[0mself\u001b[0m\u001b[1;33m.\u001b[0m\u001b[0mfunc\u001b[0m\u001b[1;33m(\u001b[0m\u001b[0mv\u001b[0m\u001b[1;33m,\u001b[0m \u001b[1;33m*\u001b[0m\u001b[0mself\u001b[0m\u001b[1;33m.\u001b[0m\u001b[0margs\u001b[0m\u001b[1;33m,\u001b[0m \u001b[1;33m**\u001b[0m\u001b[0mself\u001b[0m\u001b[1;33m.\u001b[0m\u001b[0mkwargs\u001b[0m\u001b[1;33m)\u001b[0m\u001b[1;33m\u001b[0m\u001b[1;33m\u001b[0m\u001b[0m\n\u001b[0m\u001b[0;32m    980\u001b[0m                 \u001b[1;32mif\u001b[0m \u001b[0misinstance\u001b[0m\u001b[1;33m(\u001b[0m\u001b[0mresults\u001b[0m\u001b[1;33m[\u001b[0m\u001b[0mi\u001b[0m\u001b[1;33m]\u001b[0m\u001b[1;33m,\u001b[0m \u001b[0mABCSeries\u001b[0m\u001b[1;33m)\u001b[0m\u001b[1;33m:\u001b[0m\u001b[1;33m\u001b[0m\u001b[1;33m\u001b[0m\u001b[0m\n\u001b[0;32m    981\u001b[0m                     \u001b[1;31m# If we have a view on v, we need to make a copy because\u001b[0m\u001b[1;33m\u001b[0m\u001b[1;33m\u001b[0m\u001b[0m\n\u001b[0;32m    982\u001b[0m                     \u001b[1;31m#  series_generator will swap out the underlying data\u001b[0m\u001b[1;33m\u001b[0m\u001b[1;33m\u001b[0m\u001b[0m\n",
      "\u001b[1;32m~\\AppData\\Local\\Temp\\ipykernel_30304\\2482368929.py\u001b[0m in \u001b[0;36m?\u001b[1;34m(x)\u001b[0m\n\u001b[1;32m----> 3\u001b[1;33m \u001b[0masign_column\u001b[0m \u001b[1;33m=\u001b[0m \u001b[1;32mlambda\u001b[0m \u001b[0mx\u001b[0m\u001b[1;33m:\u001b[0m \u001b[1;34mf'p{p_counter_kW}'\u001b[0m \u001b[1;32mif\u001b[0m \u001b[0mx\u001b[0m \u001b[1;33m==\u001b[0m \u001b[1;34m'€/kW'\u001b[0m \u001b[1;32melse\u001b[0m \u001b[1;33m(\u001b[0m\u001b[1;34mf'p{p_counter_kWh}'\u001b[0m \u001b[1;32mif\u001b[0m \u001b[0mx\u001b[0m \u001b[1;33m==\u001b[0m \u001b[1;34m'€/kWh'\u001b[0m \u001b[1;32melse\u001b[0m \u001b[1;34m''\u001b[0m\u001b[1;33m)\u001b[0m\u001b[1;33m\u001b[0m\u001b[1;33m\u001b[0m\u001b[0m\n\u001b[0m",
      "\u001b[1;32mc:\\Users\\javie\\AppData\\Local\\Programs\\Python\\Python311\\Lib\\site-packages\\pandas\\core\\generic.py\u001b[0m in \u001b[0;36m?\u001b[1;34m(self)\u001b[0m\n\u001b[0;32m   1517\u001b[0m     \u001b[1;33m@\u001b[0m\u001b[0mfinal\u001b[0m\u001b[1;33m\u001b[0m\u001b[1;33m\u001b[0m\u001b[0m\n\u001b[0;32m   1518\u001b[0m     \u001b[1;32mdef\u001b[0m \u001b[0m__nonzero__\u001b[0m\u001b[1;33m(\u001b[0m\u001b[0mself\u001b[0m\u001b[1;33m)\u001b[0m \u001b[1;33m->\u001b[0m \u001b[0mNoReturn\u001b[0m\u001b[1;33m:\u001b[0m\u001b[1;33m\u001b[0m\u001b[1;33m\u001b[0m\u001b[0m\n\u001b[1;32m-> 1519\u001b[1;33m         raise ValueError(\n\u001b[0m\u001b[0;32m   1520\u001b[0m             \u001b[1;34mf\"The truth value of a {type(self).__name__} is ambiguous. \"\u001b[0m\u001b[1;33m\u001b[0m\u001b[1;33m\u001b[0m\u001b[0m\n\u001b[0;32m   1521\u001b[0m             \u001b[1;34m\"Use a.empty, a.bool(), a.item(), a.any() or a.all().\"\u001b[0m\u001b[1;33m\u001b[0m\u001b[1;33m\u001b[0m\u001b[0m\n\u001b[0;32m   1522\u001b[0m         )\n",
      "\u001b[1;31mValueError\u001b[0m: The truth value of a Series is ambiguous. Use a.empty, a.bool(), a.item(), a.any() or a.all()."
     ]
    }
   ],
   "source": [
    "measured,cleaned_matches = prices_invoice()\n",
    "df = df_create(measured, cleaned_matches)\n",
    "asign_column = lambda x: f'p{p_counter_kW}' if x == '€/kW' else (f'p{p_counter_kWh}' if x == '€/kWh' else '')\n",
    "df['p_values'] = df.apply(asign_column,axis=1)\n",
    "price = json_prices(df)"
>>>>>>> Stashed changes
   ]
  },
  {
   "cell_type": "code",
   "execution_count": null,
   "metadata": {},
   "outputs": [],
   "source": [
    "def prizes_invoice():\n",
    "    patron = re.compile(r'\\b\\d+\\,\\d{6}\\b')\n",
    "    with open(\"data/txt/invoice.txt\", 'r', encoding='utf-8') as txt_file:\n",
    "        txt_file = txt_file.read()\n",
    "\n",
    "    matches = patron.findall(txt_file)\n",
    "\n",
    "    cleaned_matches = [''.join(match.split()) for match in matches]\n",
    "\n",
    "    prizes = [\"P1_con\",\"P2_con\", \"P1_power\"]\n",
    "\n",
    "    return cleaned_matches  "
   ]
  },
  {
   "cell_type": "code",
   "execution_count": null,
   "metadata": {},
   "outputs": [],
   "source": [
    "def prizes_invoice():\n",
    "    patron = re.compile(r'\\b\\d+\\,\\d{6}\\b')\n",
    "    with open(\"data/txt/invoice.txt\", 'r', encoding='utf-8') as txt_file:\n",
    "        txt_file = txt_file.read()\n",
    "\n",
    "    matches = patron.findall(txt_file)\n",
    "\n",
    "    cleaned_matches = [''.join(match.split()) for match in matches]\n",
    "\n",
    "    prizes = [\"P1_con\",\"P2_con\", \"P1_power\"]\n",
    "\n",
    "    return cleaned_matches  "
   ]
  },
  {
   "cell_type": "code",
   "execution_count": 11,
   "metadata": {},
   "outputs": [
    {
     "data": {
      "text/plain": [
       "{'Término Potencia': '13,48',\n",
       " 'Término Energía ATR': '5,90',\n",
       " 'Término Energía Libre': '32,37',\n",
       " 'Productos': '1,19',\n",
       " 'Financiación Bono Social': '1',\n",
       " 'Base Imponible': '54,03',\n",
       " 'Impuesto sobre la electricidad': '0,26',\n",
       " 'Alquiler de equipos': '0,83',\n",
       " 'TOTAL': '56,73'}"
      ]
     },
     "execution_count": 11,
     "metadata": {},
     "output_type": "execute_result"
    }
   ],
   "source": [
    "resultado"
   ]
  },
  {
   "cell_type": "code",
   "execution_count": 13,
   "metadata": {},
   "outputs": [],
   "source": [
    "import pandas as pd"
   ]
  },
  {
   "cell_type": "code",
   "execution_count": 40,
   "metadata": {},
   "outputs": [],
   "source": [
    "full_text = extract_text_from_pdf(pdf_path)"
   ]
  },
  {
   "cell_type": "code",
   "execution_count": 42,
   "metadata": {},
   "outputs": [],
   "source": [
    "ocurrencias = encontrar_ocurrencias(full_text)"
   ]
  },
  {
   "cell_type": "code",
   "execution_count": 57,
   "metadata": {},
   "outputs": [],
   "source": [
    "ocurrencias1 = encontrar_ocurrencias(txt)"
   ]
  },
  {
   "cell_type": "code",
   "execution_count": 41,
   "metadata": {},
   "outputs": [],
   "source": [
    "\n",
    "def encontrar_ocurrencias(texto):\n",
    "    patron = r'€/kWh|€/kW'\n",
    "    coincidencias = re.findall(patron, texto)\n",
    "    return coincidencias\n",
    "\n",
    "# # Ejemplo de uso\n",
    "# texto_ejemplo = \"\"\"\n",
    "# Término Potencia 13,48 € P1 3,300 kW x 31 Días x 0,105952 €/kW día P3 3,300 kW x 31 Días x 0,025820 €/kW día\n",
    "# Término Energía ATR 5,90 € P1 55 kWh x 0,072991 €/kWh P2 55 kWh x 0,028573 €/kWh P3 102 kWh x 0,003175 €/kWh\n",
    "# Término Energía Libre 32,37 € P1 55 kWh x 0,159265 €/kWh P2 55 kWh x 0,185653 €/kWh P3 102 kWh x 0,131326 €/kWh\n",
    "# \"\"\"\n",
    "\n",
    "# ocurrencias = encontrar_ocurrencias(full_text)\n",
    "# print(ocurrencias)"
   ]
  },
  {
   "cell_type": "code",
   "execution_count": 43,
   "metadata": {},
   "outputs": [
    {
     "data": {
      "text/plain": [
       "['€/kW', '€/kW', '€/kWh']"
      ]
     },
     "execution_count": 43,
     "metadata": {},
     "output_type": "execute_result"
    }
   ],
   "source": [
    "ocurrencias"
   ]
  },
  {
   "cell_type": "code",
   "execution_count": 48,
   "metadata": {},
   "outputs": [],
   "source": [
    "import os"
   ]
  },
  {
   "cell_type": "code",
   "execution_count": 49,
   "metadata": {},
   "outputs": [
    {
     "name": "stdout",
     "output_type": "stream",
     "text": [
      "Archivo guardado exitosamente en: data/txt/invoice2.txt\n"
     ]
    }
   ],
   "source": [
    "save_text_to_txt(full_text, \"data/txt/invoice2.txt\")"
   ]
  },
  {
   "cell_type": "code",
   "execution_count": 50,
   "metadata": {},
   "outputs": [],
   "source": [
    "def prizes_invoice_2():\n",
    "    patron = re.compile(r'\\b\\d+\\,\\d{6}\\b')\n",
    "    with open(\"data/txt/invoice2.txt\", 'r', encoding='utf-8') as txt_file:\n",
    "        txt_file = txt_file.read()\n",
    "\n",
    "    matches = patron.findall(txt_file)\n",
    "\n",
    "    cleaned_matches = [''.join(match.split()) for match in matches]\n",
    "\n",
    "    prizes = [\"P1_con\",\"P2_con\", \"P1_power\"]\n",
    "\n",
    "    return cleaned_matches  "
   ]
  },
  {
   "cell_type": "code",
   "execution_count": 51,
   "metadata": {},
   "outputs": [],
   "source": [
    "cleaned_matches_2 = prizes_invoice_2()"
   ]
  },
  {
   "cell_type": "code",
   "execution_count": 53,
   "metadata": {},
   "outputs": [
    {
     "data": {
      "text/plain": [
       "['0,099528', '0,016405', '0,209469', '0,038455']"
      ]
     },
     "execution_count": 53,
     "metadata": {},
     "output_type": "execute_result"
    }
   ],
   "source": [
    "cleaned_matches_2"
   ]
  },
  {
   "cell_type": "code",
   "execution_count": 54,
   "metadata": {},
   "outputs": [
    {
     "data": {
      "text/plain": [
       "['€/kW', '€/kW', '€/kWh']"
      ]
     },
     "execution_count": 54,
     "metadata": {},
     "output_type": "execute_result"
    }
   ],
   "source": [
    "ocurrencias"
   ]
  },
  {
   "cell_type": "code",
   "execution_count": 92,
   "metadata": {},
   "outputs": [],
   "source": [
    "data2 = {'precios': cleaned_matches_2, 'unidades': ocurrencias}\n",
    "df2 = pd.DataFrame.from_dict(data2, orient='index').transpose()"
   ]
  },
  {
   "cell_type": "code",
   "execution_count": 93,
   "metadata": {},
   "outputs": [
    {
     "data": {
      "text/html": [
       "<div>\n",
       "<style scoped>\n",
       "    .dataframe tbody tr th:only-of-type {\n",
       "        vertical-align: middle;\n",
       "    }\n",
       "\n",
       "    .dataframe tbody tr th {\n",
       "        vertical-align: top;\n",
       "    }\n",
       "\n",
       "    .dataframe thead th {\n",
       "        text-align: right;\n",
       "    }\n",
       "</style>\n",
       "<table border=\"1\" class=\"dataframe\">\n",
       "  <thead>\n",
       "    <tr style=\"text-align: right;\">\n",
       "      <th></th>\n",
       "      <th>precios</th>\n",
       "      <th>unidades</th>\n",
       "    </tr>\n",
       "  </thead>\n",
       "  <tbody>\n",
       "    <tr>\n",
       "      <th>0</th>\n",
       "      <td>0,099528</td>\n",
       "      <td>€/kW</td>\n",
       "    </tr>\n",
       "    <tr>\n",
       "      <th>1</th>\n",
       "      <td>0,016405</td>\n",
       "      <td>€/kW</td>\n",
       "    </tr>\n",
       "    <tr>\n",
       "      <th>2</th>\n",
       "      <td>0,209469</td>\n",
       "      <td>€/kWh</td>\n",
       "    </tr>\n",
       "    <tr>\n",
       "      <th>3</th>\n",
       "      <td>0,038455</td>\n",
       "      <td>None</td>\n",
       "    </tr>\n",
       "  </tbody>\n",
       "</table>\n",
       "</div>"
      ],
      "text/plain": [
       "    precios unidades\n",
       "0  0,099528     €/kW\n",
       "1  0,016405     €/kW\n",
       "2  0,209469    €/kWh\n",
       "3  0,038455     None"
      ]
     },
     "execution_count": 93,
     "metadata": {},
     "output_type": "execute_result"
    }
   ],
   "source": [
    "df2"
   ]
  },
  {
   "cell_type": "code",
   "execution_count": 98,
   "metadata": {},
   "outputs": [],
   "source": [
    "df2.dropna(inplace=True)"
   ]
  },
  {
   "cell_type": "code",
   "execution_count": 94,
   "metadata": {},
   "outputs": [
    {
     "data": {
      "text/html": [
       "<div>\n",
       "<style scoped>\n",
       "    .dataframe tbody tr th:only-of-type {\n",
       "        vertical-align: middle;\n",
       "    }\n",
       "\n",
       "    .dataframe tbody tr th {\n",
       "        vertical-align: top;\n",
       "    }\n",
       "\n",
       "    .dataframe thead th {\n",
       "        text-align: right;\n",
       "    }\n",
       "</style>\n",
       "<table border=\"1\" class=\"dataframe\">\n",
       "  <thead>\n",
       "    <tr style=\"text-align: right;\">\n",
       "      <th></th>\n",
       "      <th>precios</th>\n",
       "      <th>unidades</th>\n",
       "    </tr>\n",
       "  </thead>\n",
       "  <tbody>\n",
       "  </tbody>\n",
       "</table>\n",
       "</div>"
      ],
      "text/plain": [
       "Empty DataFrame\n",
       "Columns: [precios, unidades]\n",
       "Index: []"
      ]
     },
     "execution_count": 94,
     "metadata": {},
     "output_type": "execute_result"
    }
   ],
   "source": [
    "df2[df2['unidades']=='None']\n"
   ]
  },
  {
   "cell_type": "code",
   "execution_count": 99,
   "metadata": {},
   "outputs": [
    {
     "data": {
      "text/html": [
       "<div>\n",
       "<style scoped>\n",
       "    .dataframe tbody tr th:only-of-type {\n",
       "        vertical-align: middle;\n",
       "    }\n",
       "\n",
       "    .dataframe tbody tr th {\n",
       "        vertical-align: top;\n",
       "    }\n",
       "\n",
       "    .dataframe thead th {\n",
       "        text-align: right;\n",
       "    }\n",
       "</style>\n",
       "<table border=\"1\" class=\"dataframe\">\n",
       "  <thead>\n",
       "    <tr style=\"text-align: right;\">\n",
       "      <th></th>\n",
       "      <th>precios</th>\n",
       "      <th>unidades</th>\n",
       "    </tr>\n",
       "  </thead>\n",
       "  <tbody>\n",
       "    <tr>\n",
       "      <th>0</th>\n",
       "      <td>0,099528</td>\n",
       "      <td>€/kW</td>\n",
       "    </tr>\n",
       "    <tr>\n",
       "      <th>1</th>\n",
       "      <td>0,016405</td>\n",
       "      <td>€/kW</td>\n",
       "    </tr>\n",
       "    <tr>\n",
       "      <th>2</th>\n",
       "      <td>0,209469</td>\n",
       "      <td>€/kWh</td>\n",
       "    </tr>\n",
       "  </tbody>\n",
       "</table>\n",
       "</div>"
      ],
      "text/plain": [
       "    precios unidades\n",
       "0  0,099528     €/kW\n",
       "1  0,016405     €/kW\n",
       "2  0,209469    €/kWh"
      ]
     },
     "execution_count": 99,
     "metadata": {},
     "output_type": "execute_result"
    }
   ],
   "source": [
    "df2"
   ]
  },
  {
   "cell_type": "code",
   "execution_count": 66,
   "metadata": {},
   "outputs": [],
   "source": [
    "data2 = {'precios': cleaned_matches, 'unidades': ocurrencias1}\n",
    "df3 = pd.DataFrame.from_dict(data2, orient='index').transpose()"
   ]
  },
  {
   "cell_type": "code",
   "execution_count": 67,
   "metadata": {},
   "outputs": [
    {
     "data": {
      "text/html": [
       "<div>\n",
       "<style scoped>\n",
       "    .dataframe tbody tr th:only-of-type {\n",
       "        vertical-align: middle;\n",
       "    }\n",
       "\n",
       "    .dataframe tbody tr th {\n",
       "        vertical-align: top;\n",
       "    }\n",
       "\n",
       "    .dataframe thead th {\n",
       "        text-align: right;\n",
       "    }\n",
       "</style>\n",
       "<table border=\"1\" class=\"dataframe\">\n",
       "  <thead>\n",
       "    <tr style=\"text-align: right;\">\n",
       "      <th></th>\n",
       "      <th>precios</th>\n",
       "      <th>unidades</th>\n",
       "    </tr>\n",
       "  </thead>\n",
       "  <tbody>\n",
       "    <tr>\n",
       "      <th>0</th>\n",
       "      <td>0,105952</td>\n",
       "      <td>€/kW</td>\n",
       "    </tr>\n",
       "    <tr>\n",
       "      <th>1</th>\n",
       "      <td>0,025820</td>\n",
       "      <td>€/kW</td>\n",
       "    </tr>\n",
       "    <tr>\n",
       "      <th>2</th>\n",
       "      <td>0,072991</td>\n",
       "      <td>€/kWh</td>\n",
       "    </tr>\n",
       "    <tr>\n",
       "      <th>3</th>\n",
       "      <td>0,028573</td>\n",
       "      <td>€/kWh</td>\n",
       "    </tr>\n",
       "    <tr>\n",
       "      <th>4</th>\n",
       "      <td>0,003175</td>\n",
       "      <td>€/kWh</td>\n",
       "    </tr>\n",
       "    <tr>\n",
       "      <th>5</th>\n",
       "      <td>0,159265</td>\n",
       "      <td>€/kWh</td>\n",
       "    </tr>\n",
       "    <tr>\n",
       "      <th>6</th>\n",
       "      <td>0,185653</td>\n",
       "      <td>€/kWh</td>\n",
       "    </tr>\n",
       "    <tr>\n",
       "      <th>7</th>\n",
       "      <td>0,131326</td>\n",
       "      <td>€/kWh</td>\n",
       "    </tr>\n",
       "  </tbody>\n",
       "</table>\n",
       "</div>"
      ],
      "text/plain": [
       "    precios unidades\n",
       "0  0,105952     €/kW\n",
       "1  0,025820     €/kW\n",
       "2  0,072991    €/kWh\n",
       "3  0,028573    €/kWh\n",
       "4  0,003175    €/kWh\n",
       "5  0,159265    €/kWh\n",
       "6  0,185653    €/kWh\n",
       "7  0,131326    €/kWh"
      ]
     },
     "execution_count": 67,
     "metadata": {},
     "output_type": "execute_result"
    }
   ],
   "source": [
    "df3"
   ]
  },
  {
   "cell_type": "code",
   "execution_count": 69,
   "metadata": {},
   "outputs": [
    {
     "name": "stdout",
     "output_type": "stream",
     "text": [
      "    precios unidades P_values\n",
      "0  0,105952     €/kW       P1\n",
      "1  0,025820     €/kW       P2\n",
      "2  0,072991    €/kWh       P1\n",
      "3  0,028573    €/kWh       P2\n",
      "4  0,003175    €/kWh       P3\n",
      "5  0,159265    €/kWh       P4\n",
      "6  0,185653    €/kWh       P5\n",
      "7  0,131326    €/kWh       P6\n"
     ]
    }
   ],
   "source": [
    "df2['P_values'] = ''\n",
    "\n",
    "# Function to assign P_values\n",
    "def assign_p_values(row):\n",
    "    global p_counter_kW, p_counter_kWh\n",
    "    if row['unidades'] == '€/kW':\n",
    "        p_counter_kW += 1\n",
    "        return f'P{p_counter_kW}'\n",
    "    elif row['unidades'] == '€/kWh':\n",
    "        p_counter_kWh += 1\n",
    "        return f'P{p_counter_kWh}'\n",
    "    else:\n",
    "        return ''\n",
    "\n",
    "# Initialize counters\n",
    "p_counter_kW = 0\n",
    "p_counter_kWh = 0\n",
    "\n",
    "# Apply the function to assign P_values\n",
    "df3['P_values'] = df3.apply(assign_p_values, axis=1)\n",
    "\n",
    "print(df3)"
   ]
  },
  {
   "cell_type": "code",
   "execution_count": 100,
   "metadata": {},
   "outputs": [
    {
     "name": "stdout",
     "output_type": "stream",
     "text": [
      "    precios unidades P_values\n",
      "0  0,099528     €/kW       P1\n",
      "1  0,016405     €/kW       P2\n",
      "2  0,209469    €/kWh       P1\n"
     ]
    }
   ],
   "source": [
    "df2['P_values'] = ''\n",
    "\n",
    "# Function to assign P_values\n",
    "def assign_p_values(row):\n",
    "    global p_counter_kW, p_counter_kWh\n",
    "    if row['unidades'] == '€/kW':\n",
    "        p_counter_kW += 1\n",
    "        return f'P{p_counter_kW}'\n",
    "    elif row['unidades'] == '€/kWh':\n",
    "        p_counter_kWh += 1\n",
    "        return f'P{p_counter_kWh}'\n",
    "    else:\n",
    "        return ''\n",
    "\n",
    "# Initialize counters\n",
    "p_counter_kW = 0\n",
    "p_counter_kWh = 0\n",
    "\n",
    "# Apply the function to assign P_values\n",
    "df2['P_values'] = df2.apply(assign_p_values, axis=1)\n",
    "\n",
    "print(df2)"
   ]
  },
  {
   "cell_type": "code",
   "execution_count": 83,
   "metadata": {},
   "outputs": [
    {
     "name": "stdout",
     "output_type": "stream",
     "text": [
      "    precios unidades P_values\n",
      "6  0.185653    €/kWh       p1\n",
      "5  0.159265    €/kWh       p2\n",
      "7  0.131326    €/kWh       p3\n",
      "0  0.105952     €/kW       p1\n",
      "2  0.072991    €/kWh       p4\n",
      "3  0.028573    €/kWh       p5\n",
      "1  0.025820     €/kW       p2\n",
      "4  0.003175    €/kWh       p6\n"
     ]
    }
   ],
   "source": [
    "# Convert 'precios' to numeric for proper sorting\n",
    "# df3['precios'] = pd.to_numeric(df3['precios'].str.replace(',', '.'), errors='coerce')\n",
    "\n",
    "# # # Sort DataFrame by 'precios' in descending order\n",
    "# df3 = df3.sort_values(by='precios', ascending=False)\n",
    "\n",
    "# Create a new column 'P_values'\n",
    "df3['P_values'] = ''\n",
    "\n",
    "# Function to assign P_values\n",
    "def assign_p_values(row):\n",
    "    global p_counter_kW, p_counter_kWh\n",
    "    if row['unidades'] == '€/kW':\n",
    "        p_counter_kW += 1\n",
    "        return f'p{p_counter_kW}'\n",
    "    elif row['unidades'] == '€/kWh':\n",
    "        p_counter_kWh += 1\n",
    "        return f'p{p_counter_kWh}'\n",
    "    else:\n",
    "        return ''\n",
    "\n",
    "# Initialize counters\n",
    "p_counter_kW = 0\n",
    "p_counter_kWh = 0\n",
    "\n",
    "# Apply the function to assign P_values\n",
    "df3['P_values'] = df3.apply(assign_p_values, axis=1)\n",
    "\n",
    "print(df3)"
   ]
  },
  {
   "cell_type": "code",
   "execution_count": 101,
   "metadata": {},
   "outputs": [
    {
     "name": "stdout",
     "output_type": "stream",
     "text": [
      "    precios unidades P_values\n",
      "0  0,099528     €/kW       p1\n",
      "1  0,016405     €/kW       p2\n",
      "2  0,209469    €/kWh       p1\n"
     ]
    }
   ],
   "source": [
    "# Convert 'precios' to numeric for proper sorting\n",
    "# df2['precios'] = pd.to_numeric(df2['precios'].str.replace(',', '.'), errors='coerce')\n",
    "\n",
    "# # # # Sort DataFrame by 'precios' in descending order\n",
    "# df2 = df2.sort_values(by='precios', ascending=False)\n",
    "\n",
    "# Create a new column 'P_values'\n",
    "df2['P_values'] = ''\n",
    "\n",
    "# Function to assign P_values\n",
    "def assign_p_values(row):\n",
    "    global p_counter_kW, p_counter_kWh\n",
    "    if row['unidades'] == '€/kW':\n",
    "        p_counter_kW += 1\n",
    "        return f'p{p_counter_kW}'\n",
    "    elif row['unidades'] == '€/kWh':\n",
    "        p_counter_kWh += 1\n",
    "        return f'p{p_counter_kWh}'\n",
    "    else:\n",
    "        return ''\n",
    "\n",
    "# Initialize counters\n",
    "p_counter_kW = 0\n",
    "p_counter_kWh = 0\n",
    "\n",
    "# Apply the function to assign P_values\n",
    "df2['P_values'] = df2.apply(assign_p_values, axis=1)\n",
    "\n",
    "print(df2)"
   ]
  },
  {
   "cell_type": "code",
   "execution_count": 102,
   "metadata": {},
   "outputs": [
    {
     "name": "stdout",
     "output_type": "stream",
     "text": [
      "{'p1_prize_kw': [0.105952], 'p2_prize_kw': [0.02582], 'p3_prize_kw': [], 'p4_prize_kw': [], 'p5_prize_kw': [], 'p6_prize_kw': [], 'p1_prize_kwh': [0.185653], 'p2_prize_kwh': [0.159265], 'p3_prize_kwh': [0.131326], 'p4_prize_kwh': [0.072991], 'p5_prize_kwh': [0.028573], 'p6_prize_kwh': [0.003175]}\n"
     ]
    }
   ],
   "source": [
    "pdf_scarp_info = {\n",
    "    \"p1_prize_kw\": [],\n",
    "    \"p2_prize_kw\": [],\n",
    "    \"p3_prize_kw\": [],\n",
    "    \"p4_prize_kw\": [],\n",
    "    \"p5_prize_kw\": [],\n",
    "    \"p6_prize_kw\": [],\n",
    "    \"p1_prize_kwh\": [],\n",
    "    \"p2_prize_kwh\": [],\n",
    "    \"p3_prize_kwh\": [],\n",
    "    \"p4_prize_kwh\": [],\n",
    "    \"p5_prize_kwh\": [],\n",
    "    \"p6_prize_kwh\": [],\n",
    "}\n",
    "\n",
    "# Iterate over the DataFrame and populate the JSON structure\n",
    "for index, row in df3.iterrows():\n",
    "    prize_type = f\"{row['P_values']}_prize_{row['unidades'][2:].lower()}\"\n",
    "    pdf_scarp_info[prize_type].append(row['precios'])\n",
    "\n",
    "print(pdf_scarp_info)"
   ]
  },
  {
   "cell_type": "code",
   "execution_count": 103,
   "metadata": {},
   "outputs": [
    {
     "name": "stdout",
     "output_type": "stream",
     "text": [
      "{'p1_prize_kw': ['0,099528'], 'p2_prize_kw': ['0,016405'], 'p3_prize_kw': [], 'p4_prize_kw': [], 'p5_prize_kw': [], 'p6_prize_kw': [], 'p1_prize_kwh': ['0,209469'], 'p2_prize_kwh': [], 'p3_prize_kwh': [], 'p4_prize_kwh': [], 'p5_prize_kwh': [], 'p6_prize_kwh': []}\n"
     ]
    }
   ],
   "source": [
    "pdf_scarp_info = {\n",
    "    \"p1_prize_kw\": [],\n",
    "    \"p2_prize_kw\": [],\n",
    "    \"p3_prize_kw\": [],\n",
    "    \"p4_prize_kw\": [],\n",
    "    \"p5_prize_kw\": [],\n",
    "    \"p6_prize_kw\": [],\n",
    "    \"p1_prize_kwh\": [],\n",
    "    \"p2_prize_kwh\": [],\n",
    "    \"p3_prize_kwh\": [],\n",
    "    \"p4_prize_kwh\": [],\n",
    "    \"p5_prize_kwh\": [],\n",
    "    \"p6_prize_kwh\": [],\n",
    "}\n",
    "\n",
    "# Iterate over the DataFrame and populate the JSON structure\n",
    "for index, row in df2.iterrows():\n",
    "    prize_type = f\"{row['P_values']}_prize_{row['unidades'][2:].lower()}\"\n",
    "    pdf_scarp_info[prize_type].append(row['precios'])\n",
    "\n",
    "print(pdf_scarp_info)"
   ]
  }
 ],
 "metadata": {
  "kernelspec": {
   "display_name": "Python 3",
   "language": "python",
   "name": "python3"
  },
  "language_info": {
   "codemirror_mode": {
    "name": "ipython",
    "version": 3
   },
   "file_extension": ".py",
   "mimetype": "text/x-python",
   "name": "python",
   "nbconvert_exporter": "python",
   "pygments_lexer": "ipython3",
   "version": "3.11.5"
  }
 },
 "nbformat": 4,
 "nbformat_minor": 2
}
