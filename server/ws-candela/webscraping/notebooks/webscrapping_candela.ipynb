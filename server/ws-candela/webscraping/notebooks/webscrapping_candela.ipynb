{
 "cells": [
  {
   "cell_type": "code",
   "execution_count": 4,
   "metadata": {},
   "outputs": [],
   "source": [
    "from selenium import webdriver\n",
    "from selenium.webdriver.chrome.service import Service\n",
    "from selenium.webdriver.chrome.options import Options\n",
    "from selenium.webdriver.common.by import By\n",
    "\n",
    "import pandas as pd\n",
    "import time\n",
    "import os\n"
   ]
  },
  {
   "cell_type": "code",
   "execution_count": 5,
   "metadata": {},
   "outputs": [],
   "source": [
    "def get_soup_info(driver):\n",
    "    candela_info = {\n",
    "        \"rate\": [],\n",
    "        \"anual_consumption\": [],\n",
    "        \"anual_consumption_p1\": [],\n",
    "        \"anual_consumption_p2\": [],\n",
    "        \"anual_consumption_p3\": [],\n",
    "        \"anual_consumption_p4\": [],\n",
    "        \"anual_consumption_p5\": [],\n",
    "        \"anual_consumption_p6\": [],\n",
    "        \"anual_power_p1\": [],\n",
    "        \"anual_power_p2\": [],\n",
    "        \"anual_power_p3\": [],\n",
    "        \"anual_power_p4\": [],\n",
    "        \"anual_power_p5\": [],\n",
    "        \"anual_power_p6\": []\n",
    "    }\n",
    "\n",
    "    candela_info[\"rate\"] = driver.find_element(By.XPATH, '/html/body/div[1]/div[1]/div[1]/div[1]/div[2]/div[1]/div[2]/md-tabs/md-tabs-content-wrapper/md-tab-content/div[1]/md-content/md-card/md-table-container/table/tbody/tr[2]/td[9]').text\n",
    "    candela_info[\"anual_consumption\"] = driver.find_element(By.XPATH, '/html/body/div[1]/div[1]/div[1]/div[1]/div[2]/div[1]/div[2]/md-tabs/md-tabs-content-wrapper/md-tab-content/div[1]/md-content/md-card/md-table-container/table/tbody/tr[2]/td[11]').text\n",
    "    candela_info[\"anual_consumption_p1\"] = driver.find_element(By.XPATH, '/html/body/div[1]/div[1]/div[1]/div[1]/div[2]/div[1]/div[2]/md-tabs/md-tabs-content-wrapper/md-tab-content/div[1]/md-content/md-card/md-table-container/table/tbody/tr[2]/td[13]').text\n",
    "    candela_info[\"anual_consumption_p2\"] = driver.find_element(By.XPATH, '/html/body/div[1]/div[1]/div[1]/div[1]/div[2]/div[1]/div[2]/md-tabs/md-tabs-content-wrapper/md-tab-content/div[1]/md-content/md-card/md-table-container/table/tbody/tr[2]/td[14]').text\n",
    "    candela_info[\"anual_consumption_p3\"] = driver.find_element(By.XPATH, '/html/body/div[1]/div[1]/div[1]/div[1]/div[2]/div[1]/div[2]/md-tabs/md-tabs-content-wrapper/md-tab-content/div[1]/md-content/md-card/md-table-container/table/tbody/tr[2]/td[15]').text\n",
    "    candela_info[\"anual_consumption_p4\"] = driver.find_element(By.XPATH, '/html/body/div[1]/div[1]/div[1]/div[1]/div[2]/div[1]/div[2]/md-tabs/md-tabs-content-wrapper/md-tab-content/div[1]/md-content/md-card/md-table-container/table/tbody/tr[2]/td[16]').text\n",
    "    candela_info[\"anual_consumption_p5\"] = driver.find_element(By.XPATH, '/html/body/div[1]/div[1]/div[1]/div[1]/div[2]/div[1]/div[2]/md-tabs/md-tabs-content-wrapper/md-tab-content/div[1]/md-content/md-card/md-table-container/table/tbody/tr[2]/td[17]').text\n",
    "    candela_info[\"anual_consumption_p6\"] = driver.find_element(By.XPATH, '/html/body/div[1]/div[1]/div[1]/div[1]/div[2]/div[1]/div[2]/md-tabs/md-tabs-content-wrapper/md-tab-content/div[1]/md-content/md-card/md-table-container/table/tbody/tr[2]/td[18]').text\n",
    "    candela_info[\"anual_power_p1\"] = driver.find_element(By.XPATH, '/html/body/div[1]/div[1]/div[1]/div[1]/div[2]/div[1]/div[2]/md-tabs/md-tabs-content-wrapper/md-tab-content/div[1]/md-content/md-card/md-table-container/table/tbody/tr[2]/td[21]').text\n",
    "    candela_info[\"anual_power_p2\"] = driver.find_element(By.XPATH, '/html/body/div[1]/div[1]/div[1]/div[1]/div[2]/div[1]/div[2]/md-tabs/md-tabs-content-wrapper/md-tab-content/div[1]/md-content/md-card/md-table-container/table/tbody/tr[2]/td[22]').text\n",
    "    candela_info[\"anual_power_p3\"] = driver.find_element(By.XPATH, '/html/body/div[1]/div[1]/div[1]/div[1]/div[2]/div[1]/div[2]/md-tabs/md-tabs-content-wrapper/md-tab-content/div[1]/md-content/md-card/md-table-container/table/tbody/tr[2]/td[23]').text\n",
    "    candela_info[\"anual_power_p4\"] = driver.find_element(By.XPATH, '/html/body/div[1]/div[1]/div[1]/div[1]/div[2]/div[1]/div[2]/md-tabs/md-tabs-content-wrapper/md-tab-content/div[1]/md-content/md-card/md-table-container/table/tbody/tr[2]/td[24]').text\n",
    "    candela_info[\"anual_power_p5\"] = driver.find_element(By.XPATH, '/html/body/div[1]/div[1]/div[1]/div[1]/div[2]/div[1]/div[2]/md-tabs/md-tabs-content-wrapper/md-tab-content/div[1]/md-content/md-card/md-table-container/table/tbody/tr[2]/td[25]').text\n",
    "    candela_info[\"anual_power_p6\"] = driver.find_element(By.XPATH, '/html/body/div[1]/div[1]/div[1]/div[1]/div[2]/div[1]/div[2]/md-tabs/md-tabs-content-wrapper/md-tab-content/div[1]/md-content/md-card/md-table-container/table/tbody/tr[2]/td[26]').text\n",
    "\n",
    "    return candela_info"
   ]
  },
  {
   "cell_type": "code",
   "execution_count": 6,
   "metadata": {},
   "outputs": [],
   "source": [
    "from dotenv import load_dotenv\n",
    "import os\n",
    "\n",
    "load_dotenv()\n",
    "URL =  os.getenv(\"URL\")\n",
    "USER =  os.getenv(\"USER\")\n",
    "PASSWORD =  os.getenv(\"PASSWORD\")"
   ]
  },
  {
   "cell_type": "code",
   "execution_count": 9,
   "metadata": {},
   "outputs": [],
   "source": [
    "def webscraping_chrome_visible_candelas(cups):\n",
    "    \n",
    "    driver = webdriver.Chrome()\n",
    "    driver.get(URL)\n",
    "    assert \"Candela\"\n",
    "    time.sleep(3)\n",
    "\n",
    "    # Login in candelas web\n",
    "\n",
    "    driver.find_element(By.ID, \"select_1\").click()\n",
    "    time.sleep(1)\n",
    "    driver.find_element(By.ID, \"select_option_3\").click()\n",
    "    driver.find_element(By.NAME, \"usuario\").send_keys(USER)\n",
    "    driver.find_element(By.NAME, \"password\").send_keys(PASSWORD)\n",
    "    driver.find_element(By.XPATH, '/html/body/div[1]/div[1]/div[1]/div[1]/div[1]/div[1]/form/button').click()\n",
    "    time.sleep(5)\n",
    "\n",
    "    # Download info\n",
    "\n",
    "    driver.find_element(By.XPATH, '/html/body/div[1]/div[1]/div[1]/div[1]/div[1]/ul/li[3]/a').click()\n",
    "    time.sleep(1)\n",
    "    driver.find_element(By.ID, \"input_6\").send_keys(cups)\n",
    "    driver.find_element(By.XPATH, '/html/body/div[1]/div[1]/div[1]/div[1]/div[2]/div[1]/div[2]/md-tabs/md-tabs-content-wrapper/md-tab-content/div[1]/md-card/div[1]/form/div[4]/button').click()\n",
    "    time.sleep(10)\n",
    "    driver.find_element(By.XPATH, '/html/body/div[1]/div[1]/div[1]/div[1]/div[2]/div[1]/div[2]/md-tabs/md-tabs-content-wrapper/md-tab-content/div[1]/md-content/md-card/md-toolbar/div[1]/button[1]').click()\n",
    "\n",
    "    info = get_soup_info(driver)\n",
    "\n",
    "    # Close driver\n",
    "    driver.quit()\n",
    "\n",
    "    return info"
   ]
  },
  {
   "cell_type": "code",
   "execution_count": 10,
   "metadata": {},
   "outputs": [
    {
     "ename": "NoSuchElementException",
     "evalue": "Message: no such element: Unable to locate element: {\"method\":\"xpath\",\"selector\":\"/html/body/div[1]/div[1]/div[1]/div[1]/div[1]/ul/li[3]/a\"}\n  (Session info: chrome=120.0.6099.217); For documentation on this error, please visit: https://www.selenium.dev/documentation/webdriver/troubleshooting/errors#no-such-element-exception\nStacktrace:\n\tGetHandleVerifier [0x00007FF78FBD2142+3514994]\n\t(No symbol) [0x00007FF78F7F0CE2]\n\t(No symbol) [0x00007FF78F6976AA]\n\t(No symbol) [0x00007FF78F6E1860]\n\t(No symbol) [0x00007FF78F6E197C]\n\t(No symbol) [0x00007FF78F724EE7]\n\t(No symbol) [0x00007FF78F70602F]\n\t(No symbol) [0x00007FF78F7228F6]\n\t(No symbol) [0x00007FF78F705D93]\n\t(No symbol) [0x00007FF78F6D4BDC]\n\t(No symbol) [0x00007FF78F6D5C64]\n\tGetHandleVerifier [0x00007FF78FBFE16B+3695259]\n\tGetHandleVerifier [0x00007FF78FC56737+4057191]\n\tGetHandleVerifier [0x00007FF78FC4E4E3+4023827]\n\tGetHandleVerifier [0x00007FF78F9204F9+689705]\n\t(No symbol) [0x00007FF78F7FC048]\n\t(No symbol) [0x00007FF78F7F8044]\n\t(No symbol) [0x00007FF78F7F81C9]\n\t(No symbol) [0x00007FF78F7E88C4]\n\tBaseThreadInitThunk [0x00007FFB46E8257D+29]\n\tRtlUserThreadStart [0x00007FFB47A0AA58+40]\n",
     "output_type": "error",
     "traceback": [
      "\u001b[1;31m---------------------------------------------------------------------------\u001b[0m",
      "\u001b[1;31mNoSuchElementException\u001b[0m                    Traceback (most recent call last)",
      "Cell \u001b[1;32mIn[10], line 1\u001b[0m\n\u001b[1;32m----> 1\u001b[0m \u001b[43mwebscraping_chrome_visible_candelas\u001b[49m\u001b[43m(\u001b[49m\u001b[38;5;124;43m\"\u001b[39;49m\u001b[38;5;124;43mES0022000006250162PZ\u001b[39;49m\u001b[38;5;124;43m\"\u001b[39;49m\u001b[43m)\u001b[49m\n",
      "Cell \u001b[1;32mIn[9], line 20\u001b[0m, in \u001b[0;36mwebscraping_chrome_visible_candelas\u001b[1;34m(cups)\u001b[0m\n\u001b[0;32m     16\u001b[0m time\u001b[38;5;241m.\u001b[39msleep(\u001b[38;5;241m5\u001b[39m)\n\u001b[0;32m     18\u001b[0m \u001b[38;5;66;03m# Download info\u001b[39;00m\n\u001b[1;32m---> 20\u001b[0m \u001b[43mdriver\u001b[49m\u001b[38;5;241;43m.\u001b[39;49m\u001b[43mfind_element\u001b[49m\u001b[43m(\u001b[49m\u001b[43mBy\u001b[49m\u001b[38;5;241;43m.\u001b[39;49m\u001b[43mXPATH\u001b[49m\u001b[43m,\u001b[49m\u001b[43m \u001b[49m\u001b[38;5;124;43m'\u001b[39;49m\u001b[38;5;124;43m/html/body/div[1]/div[1]/div[1]/div[1]/div[1]/ul/li[3]/a\u001b[39;49m\u001b[38;5;124;43m'\u001b[39;49m\u001b[43m)\u001b[49m\u001b[38;5;241m.\u001b[39mclick()\n\u001b[0;32m     21\u001b[0m time\u001b[38;5;241m.\u001b[39msleep(\u001b[38;5;241m1\u001b[39m)\n\u001b[0;32m     22\u001b[0m driver\u001b[38;5;241m.\u001b[39mfind_element(By\u001b[38;5;241m.\u001b[39mID, \u001b[38;5;124m\"\u001b[39m\u001b[38;5;124minput_6\u001b[39m\u001b[38;5;124m\"\u001b[39m)\u001b[38;5;241m.\u001b[39msend_keys(cups)\n",
      "File \u001b[1;32mc:\\Users\\javie\\AppData\\Local\\Programs\\Python\\Python311\\Lib\\site-packages\\selenium\\webdriver\\remote\\webdriver.py:742\u001b[0m, in \u001b[0;36mWebDriver.find_element\u001b[1;34m(self, by, value)\u001b[0m\n\u001b[0;32m    739\u001b[0m     by \u001b[38;5;241m=\u001b[39m By\u001b[38;5;241m.\u001b[39mCSS_SELECTOR\n\u001b[0;32m    740\u001b[0m     value \u001b[38;5;241m=\u001b[39m \u001b[38;5;124mf\u001b[39m\u001b[38;5;124m'\u001b[39m\u001b[38;5;124m[name=\u001b[39m\u001b[38;5;124m\"\u001b[39m\u001b[38;5;132;01m{\u001b[39;00mvalue\u001b[38;5;132;01m}\u001b[39;00m\u001b[38;5;124m\"\u001b[39m\u001b[38;5;124m]\u001b[39m\u001b[38;5;124m'\u001b[39m\n\u001b[1;32m--> 742\u001b[0m \u001b[38;5;28;01mreturn\u001b[39;00m \u001b[38;5;28;43mself\u001b[39;49m\u001b[38;5;241;43m.\u001b[39;49m\u001b[43mexecute\u001b[49m\u001b[43m(\u001b[49m\u001b[43mCommand\u001b[49m\u001b[38;5;241;43m.\u001b[39;49m\u001b[43mFIND_ELEMENT\u001b[49m\u001b[43m,\u001b[49m\u001b[43m \u001b[49m\u001b[43m{\u001b[49m\u001b[38;5;124;43m\"\u001b[39;49m\u001b[38;5;124;43musing\u001b[39;49m\u001b[38;5;124;43m\"\u001b[39;49m\u001b[43m:\u001b[49m\u001b[43m \u001b[49m\u001b[43mby\u001b[49m\u001b[43m,\u001b[49m\u001b[43m \u001b[49m\u001b[38;5;124;43m\"\u001b[39;49m\u001b[38;5;124;43mvalue\u001b[39;49m\u001b[38;5;124;43m\"\u001b[39;49m\u001b[43m:\u001b[49m\u001b[43m \u001b[49m\u001b[43mvalue\u001b[49m\u001b[43m}\u001b[49m\u001b[43m)\u001b[49m[\u001b[38;5;124m\"\u001b[39m\u001b[38;5;124mvalue\u001b[39m\u001b[38;5;124m\"\u001b[39m]\n",
      "File \u001b[1;32mc:\\Users\\javie\\AppData\\Local\\Programs\\Python\\Python311\\Lib\\site-packages\\selenium\\webdriver\\remote\\webdriver.py:348\u001b[0m, in \u001b[0;36mWebDriver.execute\u001b[1;34m(self, driver_command, params)\u001b[0m\n\u001b[0;32m    346\u001b[0m response \u001b[38;5;241m=\u001b[39m \u001b[38;5;28mself\u001b[39m\u001b[38;5;241m.\u001b[39mcommand_executor\u001b[38;5;241m.\u001b[39mexecute(driver_command, params)\n\u001b[0;32m    347\u001b[0m \u001b[38;5;28;01mif\u001b[39;00m response:\n\u001b[1;32m--> 348\u001b[0m     \u001b[38;5;28;43mself\u001b[39;49m\u001b[38;5;241;43m.\u001b[39;49m\u001b[43merror_handler\u001b[49m\u001b[38;5;241;43m.\u001b[39;49m\u001b[43mcheck_response\u001b[49m\u001b[43m(\u001b[49m\u001b[43mresponse\u001b[49m\u001b[43m)\u001b[49m\n\u001b[0;32m    349\u001b[0m     response[\u001b[38;5;124m\"\u001b[39m\u001b[38;5;124mvalue\u001b[39m\u001b[38;5;124m\"\u001b[39m] \u001b[38;5;241m=\u001b[39m \u001b[38;5;28mself\u001b[39m\u001b[38;5;241m.\u001b[39m_unwrap_value(response\u001b[38;5;241m.\u001b[39mget(\u001b[38;5;124m\"\u001b[39m\u001b[38;5;124mvalue\u001b[39m\u001b[38;5;124m\"\u001b[39m, \u001b[38;5;28;01mNone\u001b[39;00m))\n\u001b[0;32m    350\u001b[0m     \u001b[38;5;28;01mreturn\u001b[39;00m response\n",
      "File \u001b[1;32mc:\\Users\\javie\\AppData\\Local\\Programs\\Python\\Python311\\Lib\\site-packages\\selenium\\webdriver\\remote\\errorhandler.py:229\u001b[0m, in \u001b[0;36mErrorHandler.check_response\u001b[1;34m(self, response)\u001b[0m\n\u001b[0;32m    227\u001b[0m         alert_text \u001b[38;5;241m=\u001b[39m value[\u001b[38;5;124m\"\u001b[39m\u001b[38;5;124malert\u001b[39m\u001b[38;5;124m\"\u001b[39m]\u001b[38;5;241m.\u001b[39mget(\u001b[38;5;124m\"\u001b[39m\u001b[38;5;124mtext\u001b[39m\u001b[38;5;124m\"\u001b[39m)\n\u001b[0;32m    228\u001b[0m     \u001b[38;5;28;01mraise\u001b[39;00m exception_class(message, screen, stacktrace, alert_text)  \u001b[38;5;66;03m# type: ignore[call-arg]  # mypy is not smart enough here\u001b[39;00m\n\u001b[1;32m--> 229\u001b[0m \u001b[38;5;28;01mraise\u001b[39;00m exception_class(message, screen, stacktrace)\n",
      "\u001b[1;31mNoSuchElementException\u001b[0m: Message: no such element: Unable to locate element: {\"method\":\"xpath\",\"selector\":\"/html/body/div[1]/div[1]/div[1]/div[1]/div[1]/ul/li[3]/a\"}\n  (Session info: chrome=120.0.6099.217); For documentation on this error, please visit: https://www.selenium.dev/documentation/webdriver/troubleshooting/errors#no-such-element-exception\nStacktrace:\n\tGetHandleVerifier [0x00007FF78FBD2142+3514994]\n\t(No symbol) [0x00007FF78F7F0CE2]\n\t(No symbol) [0x00007FF78F6976AA]\n\t(No symbol) [0x00007FF78F6E1860]\n\t(No symbol) [0x00007FF78F6E197C]\n\t(No symbol) [0x00007FF78F724EE7]\n\t(No symbol) [0x00007FF78F70602F]\n\t(No symbol) [0x00007FF78F7228F6]\n\t(No symbol) [0x00007FF78F705D93]\n\t(No symbol) [0x00007FF78F6D4BDC]\n\t(No symbol) [0x00007FF78F6D5C64]\n\tGetHandleVerifier [0x00007FF78FBFE16B+3695259]\n\tGetHandleVerifier [0x00007FF78FC56737+4057191]\n\tGetHandleVerifier [0x00007FF78FC4E4E3+4023827]\n\tGetHandleVerifier [0x00007FF78F9204F9+689705]\n\t(No symbol) [0x00007FF78F7FC048]\n\t(No symbol) [0x00007FF78F7F8044]\n\t(No symbol) [0x00007FF78F7F81C9]\n\t(No symbol) [0x00007FF78F7E88C4]\n\tBaseThreadInitThunk [0x00007FFB46E8257D+29]\n\tRtlUserThreadStart [0x00007FFB47A0AA58+40]\n"
     ]
    }
   ],
   "source": [
    "webscraping_chrome_visible_candelas(\"ES0022000006250162PZ\")"
   ]
  },
  {
   "cell_type": "code",
   "execution_count": 15,
   "metadata": {},
   "outputs": [],
   "source": [
    "def webscraping_chrome_candelas(cups):\n",
    "\n",
    "    path_driver = os.getcwd() + \"\\..\\webscraping\\chromedriver-win64\\chromedriver.exe\"\n",
    "    # Create driver Chrome\n",
    "    chrome_options = Options()\n",
    "    chrome_options.add_argument(\"--headless\")\n",
    "\n",
    "    servicio = Service(path_driver)\n",
    "    driver = webdriver.Chrome(service=servicio, options=chrome_options)\n",
    "    driver.get(URL)\n",
    "    assert \"Candela\"\n",
    "    time.sleep(3)\n",
    "\n",
    "    # Login in candelas web\n",
    "\n",
    "    driver.find_element(By.ID, \"select_1\").click()\n",
    "    time.sleep(1)\n",
    "    driver.find_element(By.ID, \"select_option_3\").click()\n",
    "    driver.find_element(By.NAME, \"usuario\").send_keys(USER)\n",
    "    driver.find_element(By.NAME, \"password\").send_keys(PASSWORD)\n",
    "    driver.find_element(By.XPATH, '/html/body/div[1]/div[1]/div[1]/div[1]/div[1]/div[1]/form/button').click()\n",
    "    time.sleep(3)\n",
    "\n",
    "    # Download info\n",
    "\n",
    "    driver.find_element(By.XPATH, '/html/body/div[1]/div[1]/div[1]/div[1]/div[1]/ul/li[3]/a').click()\n",
    "    time.sleep(1)\n",
    "    driver.find_element(By.ID, \"input_6\").send_keys(cups)\n",
    "    driver.find_element(By.XPATH, '/html/body/div[1]/div[1]/div[1]/div[1]/div[2]/div[1]/div[2]/md-tabs/md-tabs-content-wrapper/md-tab-content/div[1]/md-card/div[1]/form/div[4]/button').click()\n",
    "    time.sleep(10)\n",
    "    driver.find_element(By.XPATH, '/html/body/div[1]/div[1]/div[1]/div[1]/div[2]/div[1]/div[2]/md-tabs/md-tabs-content-wrapper/md-tab-content/div[1]/md-content/md-card/md-toolbar/div[1]/button[1]').click()\n",
    "\n",
    "    info = get_soup_info(driver)\n",
    "\n",
    "    # Close driver\n",
    "    driver.quit()\n",
    "\n",
    "    return info"
   ]
  },
  {
   "cell_type": "code",
   "execution_count": 16,
   "metadata": {},
   "outputs": [
    {
     "name": "stdout",
     "output_type": "stream",
     "text": [
      "c:\\Users\\javie\\OneDrive\\Escritorio\\ProyectoTripulaciones\\DATA-desafioG3\\webscraping\\..\\webscraping\\chromedriver-win64\\chromedriver.exe\n"
     ]
    },
    {
     "data": {
      "text/plain": [
       "{'rate': '2.0TD',\n",
       " 'anual_consumption': '2.103 KWh',\n",
       " 'anual_consumption_p1': '502 KWh',\n",
       " 'anual_consumption_p2': '472 KWh',\n",
       " 'anual_consumption_p3': '1129 KWh',\n",
       " 'anual_consumption_p4': '0 KWh',\n",
       " 'anual_consumption_p5': '0 KWh',\n",
       " 'anual_consumption_p6': '0 KWh',\n",
       " 'anual_power_p1': '4,6',\n",
       " 'anual_power_p2': '4,6',\n",
       " 'anual_power_p3': '',\n",
       " 'anual_power_p4': '',\n",
       " 'anual_power_p5': '',\n",
       " 'anual_power_p6': ''}"
      ]
     },
     "execution_count": 16,
     "metadata": {},
     "output_type": "execute_result"
    }
   ],
   "source": [
    "webscraping_chrome_candelas(JAVI_CUPS)"
   ]
  },
  {
   "cell_type": "code",
   "execution_count": null,
   "metadata": {},
   "outputs": [],
   "source": []
  }
 ],
 "metadata": {
  "kernelspec": {
   "display_name": "Python 3",
   "language": "python",
   "name": "python3"
  },
  "language_info": {
   "codemirror_mode": {
    "name": "ipython",
    "version": 3
   },
   "file_extension": ".py",
   "mimetype": "text/x-python",
   "name": "python",
   "nbconvert_exporter": "python",
   "pygments_lexer": "ipython3",
   "version": "3.11.4"
  }
 },
 "nbformat": 4,
 "nbformat_minor": 2
}
