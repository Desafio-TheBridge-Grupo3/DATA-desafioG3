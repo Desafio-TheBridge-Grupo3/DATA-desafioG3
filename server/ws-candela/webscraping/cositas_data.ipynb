{
 "cells": [
  {
   "cell_type": "code",
   "execution_count": 11,
   "metadata": {},
   "outputs": [],
   "source": [
    "from selenium import webdriver\n",
    "from selenium.webdriver.chrome.service import Service\n",
    "from selenium.webdriver.chrome.options import Options\n",
    "from selenium.webdriver.common.by import By\n",
    "\n",
    "import pandas as pd\n",
    "import time\n",
    "import os\n",
    "from variables import URL, USER, PASSWORD, JAVI_CUPS"
   ]
  },
  {
   "cell_type": "code",
   "execution_count": 12,
   "metadata": {},
   "outputs": [],
   "source": [
    "def get_soup_info(driver):\n",
    "    candela_info = {\n",
    "        \"rate\": [],\n",
    "        \"anual_consumption\": [],\n",
    "        \"anual_consumption_p1\": [],\n",
    "        \"anual_consumption_p2\": [],\n",
    "        \"anual_consumption_p3\": [],\n",
    "        \"anual_consumption_p4\": [],\n",
    "        \"anual_consumption_p5\": [],\n",
    "        \"anual_consumption_p6\": [],\n",
    "        \"anual_power_p1\": [],\n",
    "        \"anual_power_p2\": [],\n",
    "        \"anual_power_p3\": [],\n",
    "        \"anual_power_p4\": [],\n",
    "        \"anual_power_p5\": [],\n",
    "        \"anual_power_p6\": []\n",
    "    }\n",
    "\n",
    "    candela_info[\"rate\"] = driver.find_element(By.XPATH, '/html/body/div[1]/div[1]/div[1]/div[1]/div[2]/div[1]/div[2]/md-tabs/md-tabs-content-wrapper/md-tab-content/div[1]/md-content/md-card/md-table-container/table/tbody/tr[2]/td[9]').text\n",
    "    candela_info[\"anual_consumption\"] = driver.find_element(By.XPATH, '/html/body/div[1]/div[1]/div[1]/div[1]/div[2]/div[1]/div[2]/md-tabs/md-tabs-content-wrapper/md-tab-content/div[1]/md-content/md-card/md-table-container/table/tbody/tr[2]/td[11]').text\n",
    "    candela_info[\"anual_consumption_p1\"] = driver.find_element(By.XPATH, '/html/body/div[1]/div[1]/div[1]/div[1]/div[2]/div[1]/div[2]/md-tabs/md-tabs-content-wrapper/md-tab-content/div[1]/md-content/md-card/md-table-container/table/tbody/tr[2]/td[13]').text\n",
    "    candela_info[\"anual_consumption_p2\"] = driver.find_element(By.XPATH, '/html/body/div[1]/div[1]/div[1]/div[1]/div[2]/div[1]/div[2]/md-tabs/md-tabs-content-wrapper/md-tab-content/div[1]/md-content/md-card/md-table-container/table/tbody/tr[2]/td[14]').text\n",
    "    candela_info[\"anual_consumption_p3\"] = driver.find_element(By.XPATH, '/html/body/div[1]/div[1]/div[1]/div[1]/div[2]/div[1]/div[2]/md-tabs/md-tabs-content-wrapper/md-tab-content/div[1]/md-content/md-card/md-table-container/table/tbody/tr[2]/td[15]').text\n",
    "    candela_info[\"anual_consumption_p4\"] = driver.find_element(By.XPATH, '/html/body/div[1]/div[1]/div[1]/div[1]/div[2]/div[1]/div[2]/md-tabs/md-tabs-content-wrapper/md-tab-content/div[1]/md-content/md-card/md-table-container/table/tbody/tr[2]/td[16]').text\n",
    "    candela_info[\"anual_consumption_p5\"] = driver.find_element(By.XPATH, '/html/body/div[1]/div[1]/div[1]/div[1]/div[2]/div[1]/div[2]/md-tabs/md-tabs-content-wrapper/md-tab-content/div[1]/md-content/md-card/md-table-container/table/tbody/tr[2]/td[17]').text\n",
    "    candela_info[\"anual_consumption_p6\"] = driver.find_element(By.XPATH, '/html/body/div[1]/div[1]/div[1]/div[1]/div[2]/div[1]/div[2]/md-tabs/md-tabs-content-wrapper/md-tab-content/div[1]/md-content/md-card/md-table-container/table/tbody/tr[2]/td[18]').text\n",
    "    candela_info[\"anual_power_p1\"] = driver.find_element(By.XPATH, '/html/body/div[1]/div[1]/div[1]/div[1]/div[2]/div[1]/div[2]/md-tabs/md-tabs-content-wrapper/md-tab-content/div[1]/md-content/md-card/md-table-container/table/tbody/tr[2]/td[21]').text\n",
    "    candela_info[\"anual_power_p2\"] = driver.find_element(By.XPATH, '/html/body/div[1]/div[1]/div[1]/div[1]/div[2]/div[1]/div[2]/md-tabs/md-tabs-content-wrapper/md-tab-content/div[1]/md-content/md-card/md-table-container/table/tbody/tr[2]/td[22]').text\n",
    "    candela_info[\"anual_power_p3\"] = driver.find_element(By.XPATH, '/html/body/div[1]/div[1]/div[1]/div[1]/div[2]/div[1]/div[2]/md-tabs/md-tabs-content-wrapper/md-tab-content/div[1]/md-content/md-card/md-table-container/table/tbody/tr[2]/td[23]').text\n",
    "    candela_info[\"anual_power_p4\"] = driver.find_element(By.XPATH, '/html/body/div[1]/div[1]/div[1]/div[1]/div[2]/div[1]/div[2]/md-tabs/md-tabs-content-wrapper/md-tab-content/div[1]/md-content/md-card/md-table-container/table/tbody/tr[2]/td[24]').text\n",
    "    candela_info[\"anual_power_p5\"] = driver.find_element(By.XPATH, '/html/body/div[1]/div[1]/div[1]/div[1]/div[2]/div[1]/div[2]/md-tabs/md-tabs-content-wrapper/md-tab-content/div[1]/md-content/md-card/md-table-container/table/tbody/tr[2]/td[25]').text\n",
    "    candela_info[\"anual_power_p6\"] = driver.find_element(By.XPATH, '/html/body/div[1]/div[1]/div[1]/div[1]/div[2]/div[1]/div[2]/md-tabs/md-tabs-content-wrapper/md-tab-content/div[1]/md-content/md-card/md-table-container/table/tbody/tr[2]/td[26]').text\n",
    "\n",
    "    return candela_info"
   ]
  },
  {
   "cell_type": "code",
   "execution_count": 13,
   "metadata": {},
   "outputs": [],
   "source": [
    "def webscraping_chrome_visible_candelas(cups):\n",
    "    \n",
    "    driver = webdriver.Chrome()\n",
    "    driver.get(URL)\n",
    "    assert \"Candela\"\n",
    "    time.sleep(3)\n",
    "\n",
    "    # Login in candelas web\n",
    "\n",
    "    driver.find_element(By.ID, \"select_1\").click()\n",
    "    time.sleep(1)\n",
    "    driver.find_element(By.ID, \"select_option_3\").click()\n",
    "    driver.find_element(By.NAME, \"usuario\").send_keys(USER)\n",
    "    driver.find_element(By.NAME, \"password\").send_keys(PASSWORD)\n",
    "    driver.find_element(By.XPATH, '/html/body/div[1]/div[1]/div[1]/div[1]/div[1]/div[1]/form/button').click()\n",
    "    time.sleep(3)\n",
    "\n",
    "    # Download info\n",
    "\n",
    "    driver.find_element(By.XPATH, '/html/body/div[1]/div[1]/div[1]/div[1]/div[1]/ul/li[3]/a').click()\n",
    "    time.sleep(1)\n",
    "    driver.find_element(By.ID, \"input_6\").send_keys(cups)\n",
    "    driver.find_element(By.XPATH, '/html/body/div[1]/div[1]/div[1]/div[1]/div[2]/div[1]/div[2]/md-tabs/md-tabs-content-wrapper/md-tab-content/div[1]/md-card/div[1]/form/div[4]/button').click()\n",
    "    time.sleep(10)\n",
    "    driver.find_element(By.XPATH, '/html/body/div[1]/div[1]/div[1]/div[1]/div[2]/div[1]/div[2]/md-tabs/md-tabs-content-wrapper/md-tab-content/div[1]/md-content/md-card/md-toolbar/div[1]/button[1]').click()\n",
    "\n",
    "    info = get_soup_info(driver)\n",
    "\n",
    "    # Close driver\n",
    "    driver.quit()\n",
    "\n",
    "    return info"
   ]
  },
  {
   "cell_type": "code",
   "execution_count": 14,
   "metadata": {},
   "outputs": [
    {
     "data": {
      "text/plain": [
       "{'rate': '2.0TD',\n",
       " 'anual_consumption': '2.103 KWh',\n",
       " 'anual_consumption_p1': '502 KWh',\n",
       " 'anual_consumption_p2': '472 KWh',\n",
       " 'anual_consumption_p3': '1129 KWh',\n",
       " 'anual_consumption_p4': '0 KWh',\n",
       " 'anual_consumption_p5': '0 KWh',\n",
       " 'anual_consumption_p6': '0 KWh',\n",
       " 'anual_power_p1': '4,6',\n",
       " 'anual_power_p2': '4,6',\n",
       " 'anual_power_p3': '',\n",
       " 'anual_power_p4': '',\n",
       " 'anual_power_p5': '',\n",
       " 'anual_power_p6': ''}"
      ]
     },
     "execution_count": 14,
     "metadata": {},
     "output_type": "execute_result"
    }
   ],
   "source": [
    "webscraping_chrome_visible_candelas(JAVI_CUPS)"
   ]
  },
  {
   "cell_type": "code",
   "execution_count": 15,
   "metadata": {},
   "outputs": [],
   "source": [
    "def webscraping_chrome_candelas(cups):\n",
    "\n",
    "    path_driver = os.getcwd() + \"\\..\\webscraping\\chromedriver-win64\\chromedriver.exe\"\n",
    "    # Create driver Chrome\n",
    "    chrome_options = Options()\n",
    "    chrome_options.add_argument(\"--headless\")\n",
    "\n",
    "    servicio = Service(path_driver)\n",
    "    driver = webdriver.Chrome(service=servicio, options=chrome_options)\n",
    "    driver.get(URL)\n",
    "    assert \"Candela\"\n",
    "    time.sleep(3)\n",
    "\n",
    "    # Login in candelas web\n",
    "\n",
    "    driver.find_element(By.ID, \"select_1\").click()\n",
    "    time.sleep(1)\n",
    "    driver.find_element(By.ID, \"select_option_3\").click()\n",
    "    driver.find_element(By.NAME, \"usuario\").send_keys(USER)\n",
    "    driver.find_element(By.NAME, \"password\").send_keys(PASSWORD)\n",
    "    driver.find_element(By.XPATH, '/html/body/div[1]/div[1]/div[1]/div[1]/div[1]/div[1]/form/button').click()\n",
    "    time.sleep(3)\n",
    "\n",
    "    # Download info\n",
    "\n",
    "    driver.find_element(By.XPATH, '/html/body/div[1]/div[1]/div[1]/div[1]/div[1]/ul/li[3]/a').click()\n",
    "    time.sleep(1)\n",
    "    driver.find_element(By.ID, \"input_6\").send_keys(cups)\n",
    "    driver.find_element(By.XPATH, '/html/body/div[1]/div[1]/div[1]/div[1]/div[2]/div[1]/div[2]/md-tabs/md-tabs-content-wrapper/md-tab-content/div[1]/md-card/div[1]/form/div[4]/button').click()\n",
    "    time.sleep(10)\n",
    "    driver.find_element(By.XPATH, '/html/body/div[1]/div[1]/div[1]/div[1]/div[2]/div[1]/div[2]/md-tabs/md-tabs-content-wrapper/md-tab-content/div[1]/md-content/md-card/md-toolbar/div[1]/button[1]').click()\n",
    "\n",
    "    info = get_soup_info(driver)\n",
    "\n",
    "    # Close driver\n",
    "    driver.quit()\n",
    "\n",
    "    return info"
   ]
  },
  {
   "cell_type": "code",
   "execution_count": 16,
   "metadata": {},
   "outputs": [
    {
     "name": "stdout",
     "output_type": "stream",
     "text": [
      "c:\\Users\\javie\\OneDrive\\Escritorio\\ProyectoTripulaciones\\DATA-desafioG3\\webscraping\\..\\webscraping\\chromedriver-win64\\chromedriver.exe\n"
     ]
    },
    {
     "data": {
      "text/plain": [
       "{'rate': '2.0TD',\n",
       " 'anual_consumption': '2.103 KWh',\n",
       " 'anual_consumption_p1': '502 KWh',\n",
       " 'anual_consumption_p2': '472 KWh',\n",
       " 'anual_consumption_p3': '1129 KWh',\n",
       " 'anual_consumption_p4': '0 KWh',\n",
       " 'anual_consumption_p5': '0 KWh',\n",
       " 'anual_consumption_p6': '0 KWh',\n",
       " 'anual_power_p1': '4,6',\n",
       " 'anual_power_p2': '4,6',\n",
       " 'anual_power_p3': '',\n",
       " 'anual_power_p4': '',\n",
       " 'anual_power_p5': '',\n",
       " 'anual_power_p6': ''}"
      ]
     },
     "execution_count": 16,
     "metadata": {},
     "output_type": "execute_result"
    }
   ],
   "source": [
    "webscraping_chrome_candelas(JAVI_CUPS)"
   ]
  },
  {
   "cell_type": "code",
   "execution_count": null,
   "metadata": {},
   "outputs": [],
   "source": []
  }
 ],
 "metadata": {
  "kernelspec": {
   "display_name": "Python 3",
   "language": "python",
   "name": "python3"
  },
  "language_info": {
   "codemirror_mode": {
    "name": "ipython",
    "version": 3
   },
   "file_extension": ".py",
   "mimetype": "text/x-python",
   "name": "python",
   "nbconvert_exporter": "python",
   "pygments_lexer": "ipython3",
   "version": "3.11.4"
  }
 },
 "nbformat": 4,
 "nbformat_minor": 2
}
